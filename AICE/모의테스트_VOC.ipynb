{
 "cells": [
  {
   "cell_type": "markdown",
   "metadata": {},
   "source": [
    "# ASSOCIATION 모의테스트_VOC 고객 해지 예측 모델링\n",
    "#### 주제 : 데이터를 분석 및 전처리한 후 머신러닝과 딥러닝으로 VOC를 제기한 고객의 해지여부를 예측하고 결과를 분석하세요.\n",
    "\n",
    "+ 각 문제의 답안코드는 반드시 '# 여기에 답안코드를 작성하세요'로 표시된 cell에 작성해주세요.\n",
    "+ 문제에 제시된 가이드를 읽고 답안 작성하세요.\n",
    "+ 문제에 변수명이 제시된 경우 반드시 해당 변수명을 사용하세요.\n",
    "+ 본 파일과 관련 데이터 파일은 제 3자에게 공유하거나 개인적인 용도로 사용하는 등 외부로 유출할 수 없으며 유출로 인한 책임은 응시자 본인에게 있습니다.\n",
    "<br>"
   ]
  },
  {
   "cell_type": "code",
   "execution_count": 1,
   "metadata": {},
   "outputs": [],
   "source": [
    "# 아래 코드를 실행해주세요 (코드 실행시 경고메시지 무시)\n",
    "\n",
    "import warnings\n",
    "warnings.filterwarnings(action='ignore')"
   ]
  },
  {
   "cell_type": "markdown",
   "metadata": {},
   "source": [
    "<br>"
   ]
  },
  {
   "cell_type": "markdown",
   "metadata": {},
   "source": [
    "## **<span style=\"color:black\">필요한 라이브러리 설치</span>**"
   ]
  },
  {
   "cell_type": "markdown",
   "metadata": {},
   "source": [
    "**아래와 같이 pip 이용해서 seaborn을 설치하세요.**"
   ]
  },
  {
   "cell_type": "code",
   "execution_count": 2,
   "metadata": {},
   "outputs": [
    {
     "name": "stdout",
     "output_type": "stream",
     "text": [
      "Collecting seaborn\n",
      "  Downloading seaborn-0.11.2-py3-none-any.whl (292 kB)\n",
      "     |████████████████████████████████| 292 kB 24.0 MB/s            \n",
      "\u001b[?25hRequirement already satisfied: scipy>=1.0 in /usr/local/lib/python3.6/dist-packages (from seaborn) (1.5.4)\n",
      "Requirement already satisfied: pandas>=0.23 in /usr/local/lib/python3.6/dist-packages (from seaborn) (1.1.5)\n",
      "Requirement already satisfied: matplotlib>=2.2 in /usr/local/lib/python3.6/dist-packages (from seaborn) (3.3.3)\n",
      "Requirement already satisfied: numpy>=1.15 in /usr/local/lib/python3.6/dist-packages (from seaborn) (1.19.5)\n",
      "Requirement already satisfied: pyparsing!=2.0.4,!=2.1.2,!=2.1.6,>=2.0.3 in /usr/local/lib/python3.6/dist-packages (from matplotlib>=2.2->seaborn) (2.4.7)\n",
      "Requirement already satisfied: kiwisolver>=1.0.1 in /usr/local/lib/python3.6/dist-packages (from matplotlib>=2.2->seaborn) (1.3.1)\n",
      "Requirement already satisfied: python-dateutil>=2.1 in /usr/local/lib/python3.6/dist-packages (from matplotlib>=2.2->seaborn) (2.8.1)\n",
      "Requirement already satisfied: cycler>=0.10 in /usr/local/lib/python3.6/dist-packages (from matplotlib>=2.2->seaborn) (0.10.0)\n",
      "Requirement already satisfied: pillow>=6.2.0 in /usr/local/lib/python3.6/dist-packages (from matplotlib>=2.2->seaborn) (8.1.0)\n",
      "Requirement already satisfied: pytz>=2017.2 in /usr/local/lib/python3.6/dist-packages (from pandas>=0.23->seaborn) (2022.1)\n",
      "Requirement already satisfied: six in /usr/local/lib/python3.6/dist-packages (from cycler>=0.10->matplotlib>=2.2->seaborn) (1.15.0)\n",
      "Installing collected packages: seaborn\n",
      "Successfully installed seaborn-0.11.2\n",
      "\u001b[33mWARNING: Running pip as the 'root' user can result in broken permissions and conflicting behaviour with the system package manager. It is recommended to use a virtual environment instead: https://pip.pypa.io/warnings/venv\u001b[0m\n"
     ]
    }
   ],
   "source": [
    "# 맨 앞쪽에 ! 사용하면 리눅스 명령어를 수행할 수 있습니다.\n",
    "\n",
    "!pip install seaborn\n"
   ]
  },
  {
   "cell_type": "markdown",
   "metadata": {},
   "source": [
    "**<br>\n",
    "<font color=blue>문제1. numpy 별칭을 np로, pandas 별칭을 pd로 해서 임포트하는 코드를 작성하고 실행하세요.</font>**"
   ]
  },
  {
   "cell_type": "code",
   "execution_count": 3,
   "metadata": {},
   "outputs": [],
   "source": [
    "# 여기에 답안코드를 작성하세요.\n",
    "# import 명령 사용\n",
    "# numpy와 pandas 라이브러리 임포트\n",
    "import numpy as np\n",
    "import pandas as pd"
   ]
  },
  {
   "cell_type": "markdown",
   "metadata": {},
   "source": [
    "**<br>\n",
    "<font color=blue>문제2. matplotlib 라이브러리를 plt로, seaborn을 sns로 해서 임포트하는 코드를 작성하고 실행하세요.**"
   ]
  },
  {
   "cell_type": "code",
   "execution_count": 4,
   "metadata": {},
   "outputs": [],
   "source": [
    "# 여기에 답안코드를 작성하세요.\n",
    "import matplotlib.pyplot as plt\n",
    "import seaborn as sns\n"
   ]
  },
  {
   "cell_type": "markdown",
   "metadata": {},
   "source": [
    "<br>"
   ]
  },
  {
   "cell_type": "markdown",
   "metadata": {},
   "source": [
    "## **<span style=\"color:black\">Tabular 데이터 로딩</span>**"
   ]
  },
  {
   "cell_type": "markdown",
   "metadata": {},
   "source": [
    "**<br>\n",
    "<font color=blue>문제3. pandas read_csv 함수를 사용하여 voc_data.csv 파일을 읽어 변수명 df에 할당하는 코드를 작성하세요.</font>**"
   ]
  },
  {
   "cell_type": "code",
   "execution_count": 5,
   "metadata": {},
   "outputs": [],
   "source": [
    "# 여기에 답안코드를 작성하세요.\n",
    "# 읽어올 파일명 : voc_data.csv\n",
    "# 읽어온 파일을 DataFrame \"df\" 이름으로 저장\n",
    "\n",
    "df = pd.read_csv('voc_data.csv')\n"
   ]
  },
  {
   "cell_type": "markdown",
   "metadata": {},
   "source": [
    "<br>"
   ]
  },
  {
   "cell_type": "markdown",
   "metadata": {},
   "source": [
    "## **<span style=\"color:black\">데이터의 구성 확인</span>**"
   ]
  },
  {
   "cell_type": "markdown",
   "metadata": {},
   "source": [
    "##### **\"df\" DataFrame을 이용해서 읽어들인 파일의 앞부분 5줄, 뒷부분 5줄을 출력하세요**"
   ]
  },
  {
   "cell_type": "code",
   "execution_count": 6,
   "metadata": {},
   "outputs": [
    {
     "data": {
      "text/html": [
       "<div>\n",
       "<style scoped>\n",
       "    .dataframe tbody tr th:only-of-type {\n",
       "        vertical-align: middle;\n",
       "    }\n",
       "\n",
       "    .dataframe tbody tr th {\n",
       "        vertical-align: top;\n",
       "    }\n",
       "\n",
       "    .dataframe thead th {\n",
       "        text-align: right;\n",
       "    }\n",
       "</style>\n",
       "<table border=\"1\" class=\"dataframe\">\n",
       "  <thead>\n",
       "    <tr style=\"text-align: right;\">\n",
       "      <th></th>\n",
       "      <th>voc_trt_perd_itg_cd</th>\n",
       "      <th>voc_prod_sbt_id</th>\n",
       "      <th>voc_wjt_sorc_id</th>\n",
       "      <th>voc_type_itg_cd</th>\n",
       "      <th>voc_sttus_itg_cd</th>\n",
       "      <th>voc_trt_reslt_itg_cd</th>\n",
       "      <th>cust_clas_itg_cd</th>\n",
       "      <th>bprod_sbt_id</th>\n",
       "      <th>age_itg_cd</th>\n",
       "      <th>cont_sttus_itg_cd</th>\n",
       "      <th>...</th>\n",
       "      <th>voc_dupl_tmscnt</th>\n",
       "      <th>oos_cause_type_itg_cd</th>\n",
       "      <th>voc_trt_need_time_itg_cd</th>\n",
       "      <th>engt_cperd_type_itg_cd</th>\n",
       "      <th>engt_tgt_div_itg_cd</th>\n",
       "      <th>cont_fns_pam_date</th>\n",
       "      <th>voc_mis_pbls_yn</th>\n",
       "      <th>fclt_oos_yn</th>\n",
       "      <th>cust_snsry_base_conf_need_time</th>\n",
       "      <th>trm_yn</th>\n",
       "    </tr>\n",
       "  </thead>\n",
       "  <tbody>\n",
       "    <tr>\n",
       "      <th>0</th>\n",
       "      <td>_</td>\n",
       "      <td>1000665328</td>\n",
       "      <td>2153</td>\n",
       "      <td>10009</td>\n",
       "      <td>10002</td>\n",
       "      <td>_</td>\n",
       "      <td>F</td>\n",
       "      <td>1000001126</td>\n",
       "      <td>36</td>\n",
       "      <td>10001</td>\n",
       "      <td>...</td>\n",
       "      <td>0</td>\n",
       "      <td>_</td>\n",
       "      <td>10001</td>\n",
       "      <td>_</td>\n",
       "      <td>_</td>\n",
       "      <td>99991231</td>\n",
       "      <td>N</td>\n",
       "      <td>_</td>\n",
       "      <td>0</td>\n",
       "      <td>N</td>\n",
       "    </tr>\n",
       "    <tr>\n",
       "      <th>1</th>\n",
       "      <td>_</td>\n",
       "      <td>1001028714</td>\n",
       "      <td>3311</td>\n",
       "      <td>10009</td>\n",
       "      <td>10002</td>\n",
       "      <td>10081</td>\n",
       "      <td>G</td>\n",
       "      <td>1000852226</td>\n",
       "      <td>32</td>\n",
       "      <td>10001</td>\n",
       "      <td>...</td>\n",
       "      <td>0</td>\n",
       "      <td>_</td>\n",
       "      <td>10001</td>\n",
       "      <td>15098</td>\n",
       "      <td>15244</td>\n",
       "      <td>20220319</td>\n",
       "      <td>N</td>\n",
       "      <td>_</td>\n",
       "      <td>0</td>\n",
       "      <td>N</td>\n",
       "    </tr>\n",
       "    <tr>\n",
       "      <th>2</th>\n",
       "      <td>_</td>\n",
       "      <td>1001028567</td>\n",
       "      <td>1575</td>\n",
       "      <td>10009</td>\n",
       "      <td>10002</td>\n",
       "      <td>_</td>\n",
       "      <td>G</td>\n",
       "      <td>1000851875</td>\n",
       "      <td>52</td>\n",
       "      <td>10001</td>\n",
       "      <td>...</td>\n",
       "      <td>0</td>\n",
       "      <td>10268</td>\n",
       "      <td>10001</td>\n",
       "      <td>15097</td>\n",
       "      <td>15244</td>\n",
       "      <td>20220508</td>\n",
       "      <td>N</td>\n",
       "      <td>N</td>\n",
       "      <td>0</td>\n",
       "      <td>N</td>\n",
       "    </tr>\n",
       "    <tr>\n",
       "      <th>3</th>\n",
       "      <td>10000</td>\n",
       "      <td>1000665328</td>\n",
       "      <td>3546</td>\n",
       "      <td>10009</td>\n",
       "      <td>10002</td>\n",
       "      <td>_</td>\n",
       "      <td>_</td>\n",
       "      <td>1000001126</td>\n",
       "      <td>_</td>\n",
       "      <td>10001</td>\n",
       "      <td>...</td>\n",
       "      <td>0</td>\n",
       "      <td>_</td>\n",
       "      <td>10001</td>\n",
       "      <td>_</td>\n",
       "      <td>_</td>\n",
       "      <td>99991231</td>\n",
       "      <td>N</td>\n",
       "      <td>_</td>\n",
       "      <td>0</td>\n",
       "      <td>N</td>\n",
       "    </tr>\n",
       "    <tr>\n",
       "      <th>4</th>\n",
       "      <td>_</td>\n",
       "      <td>1000779276</td>\n",
       "      <td>3086</td>\n",
       "      <td>10009</td>\n",
       "      <td>10002</td>\n",
       "      <td>_</td>\n",
       "      <td>G</td>\n",
       "      <td>1000764639</td>\n",
       "      <td>50</td>\n",
       "      <td>10001</td>\n",
       "      <td>...</td>\n",
       "      <td>0</td>\n",
       "      <td>_</td>\n",
       "      <td>10001</td>\n",
       "      <td>_</td>\n",
       "      <td>_</td>\n",
       "      <td>99991231</td>\n",
       "      <td>N</td>\n",
       "      <td>_</td>\n",
       "      <td>0</td>\n",
       "      <td>N</td>\n",
       "    </tr>\n",
       "  </tbody>\n",
       "</table>\n",
       "<p>5 rows × 24 columns</p>\n",
       "</div>"
      ],
      "text/plain": [
       "  voc_trt_perd_itg_cd  voc_prod_sbt_id  voc_wjt_sorc_id  voc_type_itg_cd  \\\n",
       "0                   _       1000665328             2153            10009   \n",
       "1                   _       1001028714             3311            10009   \n",
       "2                   _       1001028567             1575            10009   \n",
       "3               10000       1000665328             3546            10009   \n",
       "4                   _       1000779276             3086            10009   \n",
       "\n",
       "   voc_sttus_itg_cd voc_trt_reslt_itg_cd cust_clas_itg_cd  bprod_sbt_id  \\\n",
       "0             10002                    _                F    1000001126   \n",
       "1             10002                10081                G    1000852226   \n",
       "2             10002                    _                G    1000851875   \n",
       "3             10002                    _                _    1000001126   \n",
       "4             10002                    _                G    1000764639   \n",
       "\n",
       "  age_itg_cd cont_sttus_itg_cd  ...  voc_dupl_tmscnt  oos_cause_type_itg_cd  \\\n",
       "0         36             10001  ...                0                      _   \n",
       "1         32             10001  ...                0                      _   \n",
       "2         52             10001  ...                0                  10268   \n",
       "3          _             10001  ...                0                      _   \n",
       "4         50             10001  ...                0                      _   \n",
       "\n",
       "  voc_trt_need_time_itg_cd  engt_cperd_type_itg_cd  engt_tgt_div_itg_cd  \\\n",
       "0                    10001                       _                    _   \n",
       "1                    10001                   15098                15244   \n",
       "2                    10001                   15097                15244   \n",
       "3                    10001                       _                    _   \n",
       "4                    10001                       _                    _   \n",
       "\n",
       "  cont_fns_pam_date  voc_mis_pbls_yn fclt_oos_yn  \\\n",
       "0          99991231                N           _   \n",
       "1          20220319                N           _   \n",
       "2          20220508                N           N   \n",
       "3          99991231                N           _   \n",
       "4          99991231                N           _   \n",
       "\n",
       "  cust_snsry_base_conf_need_time  trm_yn  \n",
       "0                              0       N  \n",
       "1                              0       N  \n",
       "2                              0       N  \n",
       "3                              0       N  \n",
       "4                              0       N  \n",
       "\n",
       "[5 rows x 24 columns]"
      ]
     },
     "execution_count": 6,
     "metadata": {},
     "output_type": "execute_result"
    }
   ],
   "source": [
    "# head() 함수 사용\n",
    "df.head(5)\n"
   ]
  },
  {
   "cell_type": "code",
   "execution_count": 7,
   "metadata": {},
   "outputs": [
    {
     "data": {
      "text/html": [
       "<div>\n",
       "<style scoped>\n",
       "    .dataframe tbody tr th:only-of-type {\n",
       "        vertical-align: middle;\n",
       "    }\n",
       "\n",
       "    .dataframe tbody tr th {\n",
       "        vertical-align: top;\n",
       "    }\n",
       "\n",
       "    .dataframe thead th {\n",
       "        text-align: right;\n",
       "    }\n",
       "</style>\n",
       "<table border=\"1\" class=\"dataframe\">\n",
       "  <thead>\n",
       "    <tr style=\"text-align: right;\">\n",
       "      <th></th>\n",
       "      <th>voc_trt_perd_itg_cd</th>\n",
       "      <th>voc_prod_sbt_id</th>\n",
       "      <th>voc_wjt_sorc_id</th>\n",
       "      <th>voc_type_itg_cd</th>\n",
       "      <th>voc_sttus_itg_cd</th>\n",
       "      <th>voc_trt_reslt_itg_cd</th>\n",
       "      <th>cust_clas_itg_cd</th>\n",
       "      <th>bprod_sbt_id</th>\n",
       "      <th>age_itg_cd</th>\n",
       "      <th>cont_sttus_itg_cd</th>\n",
       "      <th>...</th>\n",
       "      <th>voc_dupl_tmscnt</th>\n",
       "      <th>oos_cause_type_itg_cd</th>\n",
       "      <th>voc_trt_need_time_itg_cd</th>\n",
       "      <th>engt_cperd_type_itg_cd</th>\n",
       "      <th>engt_tgt_div_itg_cd</th>\n",
       "      <th>cont_fns_pam_date</th>\n",
       "      <th>voc_mis_pbls_yn</th>\n",
       "      <th>fclt_oos_yn</th>\n",
       "      <th>cust_snsry_base_conf_need_time</th>\n",
       "      <th>trm_yn</th>\n",
       "    </tr>\n",
       "  </thead>\n",
       "  <tbody>\n",
       "    <tr>\n",
       "      <th>9995</th>\n",
       "      <td>_</td>\n",
       "      <td>1000811136</td>\n",
       "      <td>2123</td>\n",
       "      <td>10009</td>\n",
       "      <td>10002</td>\n",
       "      <td>_</td>\n",
       "      <td>G</td>\n",
       "      <td>1000809259</td>\n",
       "      <td>17</td>\n",
       "      <td>10001</td>\n",
       "      <td>...</td>\n",
       "      <td>0</td>\n",
       "      <td>_</td>\n",
       "      <td>10001</td>\n",
       "      <td>_</td>\n",
       "      <td>_</td>\n",
       "      <td>99991231</td>\n",
       "      <td>N</td>\n",
       "      <td>_</td>\n",
       "      <td>0</td>\n",
       "      <td>N</td>\n",
       "    </tr>\n",
       "    <tr>\n",
       "      <th>9996</th>\n",
       "      <td>_</td>\n",
       "      <td>1001047799</td>\n",
       "      <td>2153</td>\n",
       "      <td>10009</td>\n",
       "      <td>10002</td>\n",
       "      <td>_</td>\n",
       "      <td>I</td>\n",
       "      <td>1001046521</td>\n",
       "      <td>35</td>\n",
       "      <td>10001</td>\n",
       "      <td>...</td>\n",
       "      <td>0</td>\n",
       "      <td>_</td>\n",
       "      <td>10001</td>\n",
       "      <td>_</td>\n",
       "      <td>_</td>\n",
       "      <td>99991231</td>\n",
       "      <td>N</td>\n",
       "      <td>_</td>\n",
       "      <td>0</td>\n",
       "      <td>N</td>\n",
       "    </tr>\n",
       "    <tr>\n",
       "      <th>9997</th>\n",
       "      <td>_</td>\n",
       "      <td>1001027819</td>\n",
       "      <td>379</td>\n",
       "      <td>10009</td>\n",
       "      <td>10002</td>\n",
       "      <td>_</td>\n",
       "      <td>G</td>\n",
       "      <td>1000720809</td>\n",
       "      <td>51</td>\n",
       "      <td>10001</td>\n",
       "      <td>...</td>\n",
       "      <td>0</td>\n",
       "      <td>10270</td>\n",
       "      <td>10001</td>\n",
       "      <td>15097</td>\n",
       "      <td>15244</td>\n",
       "      <td>20180903</td>\n",
       "      <td>N</td>\n",
       "      <td>N</td>\n",
       "      <td>0</td>\n",
       "      <td>N</td>\n",
       "    </tr>\n",
       "    <tr>\n",
       "      <th>9998</th>\n",
       "      <td>_</td>\n",
       "      <td>1001027819</td>\n",
       "      <td>314</td>\n",
       "      <td>10009</td>\n",
       "      <td>10002</td>\n",
       "      <td>_</td>\n",
       "      <td>I</td>\n",
       "      <td>1000720809</td>\n",
       "      <td>_</td>\n",
       "      <td>10001</td>\n",
       "      <td>...</td>\n",
       "      <td>0</td>\n",
       "      <td>_</td>\n",
       "      <td>10001</td>\n",
       "      <td>15097</td>\n",
       "      <td>15244</td>\n",
       "      <td>20210412</td>\n",
       "      <td>N</td>\n",
       "      <td>_</td>\n",
       "      <td>0</td>\n",
       "      <td>N</td>\n",
       "    </tr>\n",
       "    <tr>\n",
       "      <th>9999</th>\n",
       "      <td>_</td>\n",
       "      <td>1001047802</td>\n",
       "      <td>2266</td>\n",
       "      <td>10009</td>\n",
       "      <td>10002</td>\n",
       "      <td>_</td>\n",
       "      <td>G</td>\n",
       "      <td>1001046524</td>\n",
       "      <td>27</td>\n",
       "      <td>10001</td>\n",
       "      <td>...</td>\n",
       "      <td>0</td>\n",
       "      <td>_</td>\n",
       "      <td>10001</td>\n",
       "      <td>_</td>\n",
       "      <td>_</td>\n",
       "      <td>99991231</td>\n",
       "      <td>N</td>\n",
       "      <td>_</td>\n",
       "      <td>0</td>\n",
       "      <td>N</td>\n",
       "    </tr>\n",
       "  </tbody>\n",
       "</table>\n",
       "<p>5 rows × 24 columns</p>\n",
       "</div>"
      ],
      "text/plain": [
       "     voc_trt_perd_itg_cd  voc_prod_sbt_id  voc_wjt_sorc_id  voc_type_itg_cd  \\\n",
       "9995                   _       1000811136             2123            10009   \n",
       "9996                   _       1001047799             2153            10009   \n",
       "9997                   _       1001027819              379            10009   \n",
       "9998                   _       1001027819              314            10009   \n",
       "9999                   _       1001047802             2266            10009   \n",
       "\n",
       "      voc_sttus_itg_cd voc_trt_reslt_itg_cd cust_clas_itg_cd  bprod_sbt_id  \\\n",
       "9995             10002                    _                G    1000809259   \n",
       "9996             10002                    _                I    1001046521   \n",
       "9997             10002                    _                G    1000720809   \n",
       "9998             10002                    _                I    1000720809   \n",
       "9999             10002                    _                G    1001046524   \n",
       "\n",
       "     age_itg_cd cont_sttus_itg_cd  ...  voc_dupl_tmscnt  \\\n",
       "9995         17             10001  ...                0   \n",
       "9996         35             10001  ...                0   \n",
       "9997         51             10001  ...                0   \n",
       "9998          _             10001  ...                0   \n",
       "9999         27             10001  ...                0   \n",
       "\n",
       "      oos_cause_type_itg_cd voc_trt_need_time_itg_cd  engt_cperd_type_itg_cd  \\\n",
       "9995                      _                    10001                       _   \n",
       "9996                      _                    10001                       _   \n",
       "9997                  10270                    10001                   15097   \n",
       "9998                      _                    10001                   15097   \n",
       "9999                      _                    10001                       _   \n",
       "\n",
       "      engt_tgt_div_itg_cd cont_fns_pam_date  voc_mis_pbls_yn fclt_oos_yn  \\\n",
       "9995                    _          99991231                N           _   \n",
       "9996                    _          99991231                N           _   \n",
       "9997                15244          20180903                N           N   \n",
       "9998                15244          20210412                N           _   \n",
       "9999                    _          99991231                N           _   \n",
       "\n",
       "     cust_snsry_base_conf_need_time  trm_yn  \n",
       "9995                              0       N  \n",
       "9996                              0       N  \n",
       "9997                              0       N  \n",
       "9998                              0       N  \n",
       "9999                              0       N  \n",
       "\n",
       "[5 rows x 24 columns]"
      ]
     },
     "execution_count": 7,
     "metadata": {},
     "output_type": "execute_result"
    }
   ],
   "source": [
    "# tail() 함수 사용\n",
    "\n",
    "df.tail(5)"
   ]
  },
  {
   "cell_type": "markdown",
   "metadata": {},
   "source": [
    "##### \n",
    "**데이터프레임 정보(컬럼정보, Null 여부, 타입)를 출력하세요.**"
   ]
  },
  {
   "cell_type": "code",
   "execution_count": 8,
   "metadata": {},
   "outputs": [
    {
     "name": "stdout",
     "output_type": "stream",
     "text": [
      "<class 'pandas.core.frame.DataFrame'>\n",
      "RangeIndex: 10000 entries, 0 to 9999\n",
      "Data columns (total 24 columns):\n",
      " #   Column                          Non-Null Count  Dtype \n",
      "---  ------                          --------------  ----- \n",
      " 0   voc_trt_perd_itg_cd             10000 non-null  object\n",
      " 1   voc_prod_sbt_id                 10000 non-null  int64 \n",
      " 2   voc_wjt_sorc_id                 10000 non-null  int64 \n",
      " 3   voc_type_itg_cd                 10000 non-null  int64 \n",
      " 4   voc_sttus_itg_cd                10000 non-null  int64 \n",
      " 5   voc_trt_reslt_itg_cd            10000 non-null  object\n",
      " 6   cust_clas_itg_cd                10000 non-null  object\n",
      " 7   bprod_sbt_id                    10000 non-null  int64 \n",
      " 8   age_itg_cd                      10000 non-null  object\n",
      " 9   cont_sttus_itg_cd               10000 non-null  object\n",
      " 10  new_date                        10000 non-null  int64 \n",
      " 11  opn_nfl_chg_date                10000 non-null  int64 \n",
      " 12  cust_dtl_ctg_itg_cd             10000 non-null  object\n",
      " 13  voc_trt_degr_div_itg_cd         10000 non-null  int64 \n",
      " 14  voc_dupl_tmscnt                 10000 non-null  int64 \n",
      " 15  oos_cause_type_itg_cd           10000 non-null  object\n",
      " 16  voc_trt_need_time_itg_cd        10000 non-null  int64 \n",
      " 17  engt_cperd_type_itg_cd          10000 non-null  object\n",
      " 18  engt_tgt_div_itg_cd             10000 non-null  object\n",
      " 19  cont_fns_pam_date               10000 non-null  int64 \n",
      " 20  voc_mis_pbls_yn                 10000 non-null  object\n",
      " 21  fclt_oos_yn                     10000 non-null  object\n",
      " 22  cust_snsry_base_conf_need_time  10000 non-null  int64 \n",
      " 23  trm_yn                          10000 non-null  object\n",
      "dtypes: int64(12), object(12)\n",
      "memory usage: 1.8+ MB\n"
     ]
    }
   ],
   "source": [
    "# DataFrame의 info() 함수 활용\n",
    "# 총 24개 컬럼 있음 확인\n",
    "\n",
    "df.info()\n"
   ]
  },
  {
   "cell_type": "markdown",
   "metadata": {},
   "source": [
    "##### \n",
    "**데이터프레임 인덱스를 확인하세요.**"
   ]
  },
  {
   "cell_type": "code",
   "execution_count": 9,
   "metadata": {},
   "outputs": [
    {
     "data": {
      "text/plain": [
       "RangeIndex(start=0, stop=10000, step=1)"
      ]
     },
     "execution_count": 9,
     "metadata": {},
     "output_type": "execute_result"
    }
   ],
   "source": [
    "df.index"
   ]
  },
  {
   "cell_type": "markdown",
   "metadata": {},
   "source": [
    "#####\n",
    " **데이터프레임 컬럼을 확인하세요.**"
   ]
  },
  {
   "cell_type": "code",
   "execution_count": 10,
   "metadata": {},
   "outputs": [
    {
     "data": {
      "text/plain": [
       "Index(['voc_trt_perd_itg_cd', 'voc_prod_sbt_id', 'voc_wjt_sorc_id',\n",
       "       'voc_type_itg_cd', 'voc_sttus_itg_cd', 'voc_trt_reslt_itg_cd',\n",
       "       'cust_clas_itg_cd', 'bprod_sbt_id', 'age_itg_cd', 'cont_sttus_itg_cd',\n",
       "       'new_date', 'opn_nfl_chg_date', 'cust_dtl_ctg_itg_cd',\n",
       "       'voc_trt_degr_div_itg_cd', 'voc_dupl_tmscnt', 'oos_cause_type_itg_cd',\n",
       "       'voc_trt_need_time_itg_cd', 'engt_cperd_type_itg_cd',\n",
       "       'engt_tgt_div_itg_cd', 'cont_fns_pam_date', 'voc_mis_pbls_yn',\n",
       "       'fclt_oos_yn', 'cust_snsry_base_conf_need_time', 'trm_yn'],\n",
       "      dtype='object')"
      ]
     },
     "execution_count": 10,
     "metadata": {},
     "output_type": "execute_result"
    }
   ],
   "source": [
    "df.columns"
   ]
  },
  {
   "cell_type": "markdown",
   "metadata": {},
   "source": [
    "#####\n",
    "**데이터프레임 값(value)을 확인하세요.**"
   ]
  },
  {
   "cell_type": "code",
   "execution_count": 12,
   "metadata": {},
   "outputs": [
    {
     "data": {
      "text/plain": [
       "array([['_', 1000665328, 2153, ..., '_', 0, 'N'],\n",
       "       ['_', 1001028714, 3311, ..., '_', 0, 'N'],\n",
       "       ['_', 1001028567, 1575, ..., 'N', 0, 'N'],\n",
       "       ...,\n",
       "       ['_', 1001027819, 379, ..., 'N', 0, 'N'],\n",
       "       ['_', 1001027819, 314, ..., '_', 0, 'N'],\n",
       "       ['_', 1001047802, 2266, ..., '_', 0, 'N']], dtype=object)"
      ]
     },
     "execution_count": 12,
     "metadata": {},
     "output_type": "execute_result"
    }
   ],
   "source": [
    "df.values"
   ]
  },
  {
   "cell_type": "markdown",
   "metadata": {},
   "source": [
    "#####\n",
    "**데이터프레임의 계산 가능한 값들에 대한 통계치를 확인하세요.**"
   ]
  },
  {
   "cell_type": "code",
   "execution_count": 13,
   "metadata": {},
   "outputs": [
    {
     "data": {
      "text/html": [
       "<div>\n",
       "<style scoped>\n",
       "    .dataframe tbody tr th:only-of-type {\n",
       "        vertical-align: middle;\n",
       "    }\n",
       "\n",
       "    .dataframe tbody tr th {\n",
       "        vertical-align: top;\n",
       "    }\n",
       "\n",
       "    .dataframe thead th {\n",
       "        text-align: right;\n",
       "    }\n",
       "</style>\n",
       "<table border=\"1\" class=\"dataframe\">\n",
       "  <thead>\n",
       "    <tr style=\"text-align: right;\">\n",
       "      <th></th>\n",
       "      <th>voc_prod_sbt_id</th>\n",
       "      <th>voc_wjt_sorc_id</th>\n",
       "      <th>voc_type_itg_cd</th>\n",
       "      <th>voc_sttus_itg_cd</th>\n",
       "      <th>bprod_sbt_id</th>\n",
       "      <th>new_date</th>\n",
       "      <th>opn_nfl_chg_date</th>\n",
       "      <th>voc_trt_degr_div_itg_cd</th>\n",
       "      <th>voc_dupl_tmscnt</th>\n",
       "      <th>voc_trt_need_time_itg_cd</th>\n",
       "      <th>cont_fns_pam_date</th>\n",
       "      <th>cust_snsry_base_conf_need_time</th>\n",
       "    </tr>\n",
       "  </thead>\n",
       "  <tbody>\n",
       "    <tr>\n",
       "      <th>count</th>\n",
       "      <td>1.000000e+04</td>\n",
       "      <td>10000.00000</td>\n",
       "      <td>10000.00000</td>\n",
       "      <td>10000.000000</td>\n",
       "      <td>1.000000e+04</td>\n",
       "      <td>1.000000e+04</td>\n",
       "      <td>1.000000e+04</td>\n",
       "      <td>10000.000000</td>\n",
       "      <td>10000.000000</td>\n",
       "      <td>10000.000000</td>\n",
       "      <td>1.000000e+04</td>\n",
       "      <td>10000.00000</td>\n",
       "    </tr>\n",
       "    <tr>\n",
       "      <th>mean</th>\n",
       "      <td>9.907267e+08</td>\n",
       "      <td>1578.29170</td>\n",
       "      <td>10008.52360</td>\n",
       "      <td>10002.043400</td>\n",
       "      <td>8.838173e+08</td>\n",
       "      <td>1.744283e+07</td>\n",
       "      <td>1.744505e+07</td>\n",
       "      <td>20001.074200</td>\n",
       "      <td>0.008800</td>\n",
       "      <td>10002.656800</td>\n",
       "      <td>7.004469e+07</td>\n",
       "      <td>193.88010</td>\n",
       "    </tr>\n",
       "    <tr>\n",
       "      <th>std</th>\n",
       "      <td>1.005780e+08</td>\n",
       "      <td>1078.63717</td>\n",
       "      <td>1.57927</td>\n",
       "      <td>0.314843</td>\n",
       "      <td>3.214229e+08</td>\n",
       "      <td>6.849207e+06</td>\n",
       "      <td>6.850077e+06</td>\n",
       "      <td>0.262109</td>\n",
       "      <td>0.103555</td>\n",
       "      <td>6.576864</td>\n",
       "      <td>3.863802e+07</td>\n",
       "      <td>6970.03853</td>\n",
       "    </tr>\n",
       "    <tr>\n",
       "      <th>min</th>\n",
       "      <td>-9.980000e+02</td>\n",
       "      <td>126.00000</td>\n",
       "      <td>10003.00000</td>\n",
       "      <td>10002.000000</td>\n",
       "      <td>-9.980000e+02</td>\n",
       "      <td>1.010100e+04</td>\n",
       "      <td>1.010100e+04</td>\n",
       "      <td>20001.000000</td>\n",
       "      <td>0.000000</td>\n",
       "      <td>10001.000000</td>\n",
       "      <td>2.001063e+07</td>\n",
       "      <td>0.00000</td>\n",
       "    </tr>\n",
       "    <tr>\n",
       "      <th>25%</th>\n",
       "      <td>1.000782e+09</td>\n",
       "      <td>360.00000</td>\n",
       "      <td>10009.00000</td>\n",
       "      <td>10002.000000</td>\n",
       "      <td>1.000003e+09</td>\n",
       "      <td>2.008053e+07</td>\n",
       "      <td>2.008123e+07</td>\n",
       "      <td>20001.000000</td>\n",
       "      <td>0.000000</td>\n",
       "      <td>10001.000000</td>\n",
       "      <td>2.021102e+07</td>\n",
       "      <td>0.00000</td>\n",
       "    </tr>\n",
       "    <tr>\n",
       "      <th>50%</th>\n",
       "      <td>1.001028e+09</td>\n",
       "      <td>2056.00000</td>\n",
       "      <td>10009.00000</td>\n",
       "      <td>10002.000000</td>\n",
       "      <td>1.000749e+09</td>\n",
       "      <td>2.014121e+07</td>\n",
       "      <td>2.015031e+07</td>\n",
       "      <td>20001.000000</td>\n",
       "      <td>0.000000</td>\n",
       "      <td>10001.000000</td>\n",
       "      <td>9.999123e+07</td>\n",
       "      <td>0.00000</td>\n",
       "    </tr>\n",
       "    <tr>\n",
       "      <th>75%</th>\n",
       "      <td>1.001036e+09</td>\n",
       "      <td>2153.00000</td>\n",
       "      <td>10009.00000</td>\n",
       "      <td>10002.000000</td>\n",
       "      <td>1.001044e+09</td>\n",
       "      <td>2.018010e+07</td>\n",
       "      <td>2.018032e+07</td>\n",
       "      <td>20001.000000</td>\n",
       "      <td>0.000000</td>\n",
       "      <td>10001.000000</td>\n",
       "      <td>9.999123e+07</td>\n",
       "      <td>0.00000</td>\n",
       "    </tr>\n",
       "    <tr>\n",
       "      <th>max</th>\n",
       "      <td>1.001079e+09</td>\n",
       "      <td>3856.00000</td>\n",
       "      <td>10017.00000</td>\n",
       "      <td>10005.000000</td>\n",
       "      <td>1.001078e+09</td>\n",
       "      <td>2.020041e+07</td>\n",
       "      <td>2.020041e+07</td>\n",
       "      <td>20002.000000</td>\n",
       "      <td>3.000000</td>\n",
       "      <td>10038.000000</td>\n",
       "      <td>9.999123e+07</td>\n",
       "      <td>367991.00000</td>\n",
       "    </tr>\n",
       "  </tbody>\n",
       "</table>\n",
       "</div>"
      ],
      "text/plain": [
       "       voc_prod_sbt_id  voc_wjt_sorc_id  voc_type_itg_cd  voc_sttus_itg_cd  \\\n",
       "count     1.000000e+04      10000.00000      10000.00000      10000.000000   \n",
       "mean      9.907267e+08       1578.29170      10008.52360      10002.043400   \n",
       "std       1.005780e+08       1078.63717          1.57927          0.314843   \n",
       "min      -9.980000e+02        126.00000      10003.00000      10002.000000   \n",
       "25%       1.000782e+09        360.00000      10009.00000      10002.000000   \n",
       "50%       1.001028e+09       2056.00000      10009.00000      10002.000000   \n",
       "75%       1.001036e+09       2153.00000      10009.00000      10002.000000   \n",
       "max       1.001079e+09       3856.00000      10017.00000      10005.000000   \n",
       "\n",
       "       bprod_sbt_id      new_date  opn_nfl_chg_date  voc_trt_degr_div_itg_cd  \\\n",
       "count  1.000000e+04  1.000000e+04      1.000000e+04             10000.000000   \n",
       "mean   8.838173e+08  1.744283e+07      1.744505e+07             20001.074200   \n",
       "std    3.214229e+08  6.849207e+06      6.850077e+06                 0.262109   \n",
       "min   -9.980000e+02  1.010100e+04      1.010100e+04             20001.000000   \n",
       "25%    1.000003e+09  2.008053e+07      2.008123e+07             20001.000000   \n",
       "50%    1.000749e+09  2.014121e+07      2.015031e+07             20001.000000   \n",
       "75%    1.001044e+09  2.018010e+07      2.018032e+07             20001.000000   \n",
       "max    1.001078e+09  2.020041e+07      2.020041e+07             20002.000000   \n",
       "\n",
       "       voc_dupl_tmscnt  voc_trt_need_time_itg_cd  cont_fns_pam_date  \\\n",
       "count     10000.000000              10000.000000       1.000000e+04   \n",
       "mean          0.008800              10002.656800       7.004469e+07   \n",
       "std           0.103555                  6.576864       3.863802e+07   \n",
       "min           0.000000              10001.000000       2.001063e+07   \n",
       "25%           0.000000              10001.000000       2.021102e+07   \n",
       "50%           0.000000              10001.000000       9.999123e+07   \n",
       "75%           0.000000              10001.000000       9.999123e+07   \n",
       "max           3.000000              10038.000000       9.999123e+07   \n",
       "\n",
       "       cust_snsry_base_conf_need_time  \n",
       "count                     10000.00000  \n",
       "mean                        193.88010  \n",
       "std                        6970.03853  \n",
       "min                           0.00000  \n",
       "25%                           0.00000  \n",
       "50%                           0.00000  \n",
       "75%                           0.00000  \n",
       "max                      367991.00000  "
      ]
     },
     "execution_count": 13,
     "metadata": {},
     "output_type": "execute_result"
    }
   ],
   "source": [
    "df.describe()"
   ]
  },
  {
   "cell_type": "markdown",
   "metadata": {},
   "source": [
    "#####\n",
    "**DataFrame 컬럼 항목에 Null이 존재하는지 확인하세요.**"
   ]
  },
  {
   "cell_type": "code",
   "execution_count": 14,
   "metadata": {},
   "outputs": [
    {
     "data": {
      "text/plain": [
       "voc_trt_perd_itg_cd               0\n",
       "voc_prod_sbt_id                   0\n",
       "voc_wjt_sorc_id                   0\n",
       "voc_type_itg_cd                   0\n",
       "voc_sttus_itg_cd                  0\n",
       "voc_trt_reslt_itg_cd              0\n",
       "cust_clas_itg_cd                  0\n",
       "bprod_sbt_id                      0\n",
       "age_itg_cd                        0\n",
       "cont_sttus_itg_cd                 0\n",
       "new_date                          0\n",
       "opn_nfl_chg_date                  0\n",
       "cust_dtl_ctg_itg_cd               0\n",
       "voc_trt_degr_div_itg_cd           0\n",
       "voc_dupl_tmscnt                   0\n",
       "oos_cause_type_itg_cd             0\n",
       "voc_trt_need_time_itg_cd          0\n",
       "engt_cperd_type_itg_cd            0\n",
       "engt_tgt_div_itg_cd               0\n",
       "cont_fns_pam_date                 0\n",
       "voc_mis_pbls_yn                   0\n",
       "fclt_oos_yn                       0\n",
       "cust_snsry_base_conf_need_time    0\n",
       "trm_yn                            0\n",
       "dtype: int64"
      ]
     },
     "execution_count": 14,
     "metadata": {},
     "output_type": "execute_result"
    }
   ],
   "source": [
    "# DataFrame의 isnull() 함수 사용\n",
    "# Null 합계를 보려면 sum() 함수 사용\n",
    "df.isna().sum()\n",
    "\n"
   ]
  },
  {
   "cell_type": "markdown",
   "metadata": {},
   "source": [
    "#####\n",
    "**voc_trt_perd_itg_cd 컬럼 데이터별 건수를 나열하세요.**"
   ]
  },
  {
   "cell_type": "code",
   "execution_count": 15,
   "metadata": {},
   "outputs": [
    {
     "data": {
      "text/plain": [
       "_        5422\n",
       "10000    4283\n",
       "10001     163\n",
       "10002      58\n",
       "10003      25\n",
       "10004      16\n",
       "10005      10\n",
       "10006       6\n",
       "10008       3\n",
       "10009       3\n",
       "10007       2\n",
       "10016       2\n",
       "10011       2\n",
       "10012       2\n",
       "10015       1\n",
       "10013       1\n",
       "10014       1\n",
       "Name: voc_trt_perd_itg_cd, dtype: int64"
      ]
     },
     "execution_count": 15,
     "metadata": {},
     "output_type": "execute_result"
    }
   ],
   "source": [
    "# df DataFrame의 'voc_trt_perd_itg_cd'컬럼에 value_counts() 함수 사용\n",
    "df['voc_trt_perd_itg_cd'].value_counts()\n",
    "\n"
   ]
  },
  {
   "cell_type": "code",
   "execution_count": 16,
   "metadata": {},
   "outputs": [
    {
     "data": {
      "text/plain": [
       "_        0.5422\n",
       "10000    0.4283\n",
       "10001    0.0163\n",
       "10002    0.0058\n",
       "10003    0.0025\n",
       "10004    0.0016\n",
       "10005    0.0010\n",
       "10006    0.0006\n",
       "10008    0.0003\n",
       "10009    0.0003\n",
       "10007    0.0002\n",
       "10016    0.0002\n",
       "10011    0.0002\n",
       "10012    0.0002\n",
       "10015    0.0001\n",
       "10013    0.0001\n",
       "10014    0.0001\n",
       "Name: voc_trt_perd_itg_cd, dtype: float64"
      ]
     },
     "execution_count": 16,
     "metadata": {},
     "output_type": "execute_result"
    }
   ],
   "source": [
    "# [참고] voc_trt_perd_itg_cd 컬럼 데이터별 건수 비율 보기 (정규화된 형태로 출력)\n",
    "\n",
    "df['voc_trt_perd_itg_cd'].value_counts(normalize=True)"
   ]
  },
  {
   "cell_type": "markdown",
   "metadata": {
    "tags": []
   },
   "source": [
    "## **<span style=\"color:black\">불필요한 컬럼 삭제</span>**"
   ]
  },
  {
   "cell_type": "markdown",
   "metadata": {},
   "source": [
    "#####\n",
    "**'_' 값이 50% 이상 차지하는 컬럼을 제외하고 분석하려 합니다. 다음 컬럼들을 삭제하세요.**"
   ]
  },
  {
   "cell_type": "code",
   "execution_count": 17,
   "metadata": {},
   "outputs": [],
   "source": [
    "# 제외 컬럼 :  voc_trt_perd_itg_cd, voc_trt_reslt_itg_cd, oos_cause_type_itg_cd, engt_cperd_type_itg_cd, engt_tgt_div_itg_cd, fclt_oos_yn\n",
    "# DataFrame drop() 함수 사용\n",
    "# 컬럼 삭제한 결과를 \"df1\" DataFrame 저장\n",
    "\n",
    "df1 = df.drop(['voc_trt_perd_itg_cd', 'voc_trt_reslt_itg_cd', 'oos_cause_type_itg_cd', 'engt_cperd_type_itg_cd', 'engt_tgt_div_itg_cd', 'fclt_oos_yn'], axis=1)\n"
   ]
  },
  {
   "cell_type": "markdown",
   "metadata": {},
   "source": [
    "#####\n",
    "**'voc_mis_pbls_yn' 컬럼은 'N' 값이 99% 이상 차지하므로 삭제하세요.</font>**"
   ]
  },
  {
   "cell_type": "code",
   "execution_count": 18,
   "metadata": {
    "tags": []
   },
   "outputs": [],
   "source": [
    "df1 = df1.drop('voc_mis_pbls_yn', axis=1)"
   ]
  },
  {
   "cell_type": "markdown",
   "metadata": {},
   "source": [
    "#####\n",
    "**날짜 관련 컬럼을 삭제하세요.</font>**"
   ]
  },
  {
   "cell_type": "code",
   "execution_count": 19,
   "metadata": {
    "tags": []
   },
   "outputs": [],
   "source": [
    "# 날짜 관련 컬럼 : 'new_date', 'opn_nfl_chg_date', 'cont_fns_pam_date'\n",
    "\n",
    "df1 = df1.drop(['new_date', 'opn_nfl_chg_date', 'cont_fns_pam_date'], axis=1)"
   ]
  },
  {
   "cell_type": "markdown",
   "metadata": {},
   "source": [
    "## **<span style=\"color:black\">데이터 결측치 처리</span>**"
   ]
  },
  {
   "cell_type": "markdown",
   "metadata": {},
   "source": [
    "**<br>\n",
    "<font color=blue>문제4. 모델링 성능을 제대로 얻기 위해서 결측치 처리는 필수 입니다. 아래 가이드를 따라 결측치를 처리하세요.</font>**\n",
    "+ DataFrame replace 함수를 사용해서 모든 컬럼에 대해 '_'값을 null로 변경\n",
    "+ Null 표현: np.nan \n",
    "+ \"df1\" DataFrame 자체에 저장할 것이므로 inplace=True 사용\n",
    "+ 컬럼별 Null 갯수 확인"
   ]
  },
  {
   "cell_type": "code",
   "execution_count": 20,
   "metadata": {},
   "outputs": [
    {
     "data": {
      "text/plain": [
       "voc_prod_sbt_id                      0\n",
       "voc_wjt_sorc_id                      0\n",
       "voc_type_itg_cd                      0\n",
       "voc_sttus_itg_cd                     0\n",
       "cust_clas_itg_cd                  1934\n",
       "bprod_sbt_id                         0\n",
       "age_itg_cd                        2129\n",
       "cont_sttus_itg_cd                 1168\n",
       "cust_dtl_ctg_itg_cd               1168\n",
       "voc_trt_degr_div_itg_cd              0\n",
       "voc_dupl_tmscnt                      0\n",
       "voc_trt_need_time_itg_cd             0\n",
       "cust_snsry_base_conf_need_time       0\n",
       "trm_yn                               0\n",
       "dtype: int64"
      ]
     },
     "execution_count": 20,
     "metadata": {},
     "output_type": "execute_result"
    }
   ],
   "source": [
    "# 여기에 답안코드를 작성하세요.\n",
    "df1.replace({'_':np.nan}, inplace=True)\n",
    "df1.isna().sum()"
   ]
  },
  {
   "cell_type": "markdown",
   "metadata": {},
   "source": [
    "**<br>\n",
    "<font color=blue>문제5. 아래 가이드에 따라 'cust_clas_itg_cd' 컬럼의 값 중에 Null을 컬럼의 최빈값으로 변경하세요.</font>**\n",
    "+ DataFrame의 fillna() 함수 사용\n",
    "+ cust_clas_itg_cd 컬럼에 대한 값 분포 확인\n",
    "+ 적용 대상 컬럼 : 'cust_clas_itg_cd'\n",
    "+ \"df1\" DataFrame에 자체에 저장할 것이므로 inplace=True 사용\n",
    "+ 결측값을 'L'로 대체"
   ]
  },
  {
   "cell_type": "code",
   "execution_count": 21,
   "metadata": {},
   "outputs": [
    {
     "data": {
      "text/plain": [
       "L    2769\n",
       "G    1777\n",
       "I    1266\n",
       "J    1071\n",
       "F     903\n",
       "O     275\n",
       "H       4\n",
       "M       1\n",
       "Name: cust_clas_itg_cd, dtype: int64"
      ]
     },
     "execution_count": 21,
     "metadata": {},
     "output_type": "execute_result"
    }
   ],
   "source": [
    "# 여기에 답안코드를 작성하세요.\n",
    "# cust_clas_itg_cd 컬럼에 대한 값 분포 확인\n",
    "df1['cust_clas_itg_cd'].value_counts()\n"
   ]
  },
  {
   "cell_type": "code",
   "execution_count": 22,
   "metadata": {},
   "outputs": [],
   "source": [
    "# 여기에 답안코드를 작성하세요.\n",
    "# DataFrame의 fillna() 함수 사용\n",
    "# 적용 대상 컬럼 : 'cust_clas_itg_cd'\n",
    "# \"df1\" DataFrame에 자체에 저장할 것이므로 inplace=True 사용\n",
    "# 결측값을 'L'로 대체\n",
    "df1['cust_clas_itg_cd'].fillna('L', inplace=True)\n"
   ]
  },
  {
   "cell_type": "code",
   "execution_count": null,
   "metadata": {},
   "outputs": [],
   "source": [
    "# (참고) fillna 대신 replace함수 사용하여 처리해도 됨.\n",
    "# (참고) df1['cust_clas_itg_cd'].replace(np.nan, 'L', inplace=True)"
   ]
  },
  {
   "cell_type": "code",
   "execution_count": 23,
   "metadata": {},
   "outputs": [
    {
     "data": {
      "text/plain": [
       "0"
      ]
     },
     "execution_count": 23,
     "metadata": {},
     "output_type": "execute_result"
    }
   ],
   "source": [
    "# cust_clas_itg_cd 컬럼 Null 갯수 확인\n",
    "df1['cust_clas_itg_cd'].isna().sum()\n"
   ]
  },
  {
   "cell_type": "markdown",
   "metadata": {},
   "source": [
    "**<br>\n",
    "<font color=blue>문제6. 아래 주석에 따라 'age_itg_cd'의 null 값을 중앙값(median)으로 변경하고 데이터 타입을 정수(int)로 변경하세요.</font>**"
   ]
  },
  {
   "cell_type": "code",
   "execution_count": 24,
   "metadata": {},
   "outputs": [
    {
     "data": {
      "text/plain": [
       "49.0"
      ]
     },
     "execution_count": 24,
     "metadata": {},
     "output_type": "execute_result"
    }
   ],
   "source": [
    "# 여기에 답안코드를 작성하세요.\n",
    "# 'age_itg_cd' 중앙값 계산\n",
    "df1['age_itg_cd'].median()\n"
   ]
  },
  {
   "cell_type": "code",
   "execution_count": 25,
   "metadata": {},
   "outputs": [],
   "source": [
    "# 여기에 답안코드를 작성하세요.\n",
    "# 'age_itg_cd' 컬럼에 대해 null 값을 중앙값 49로 replace\n",
    "df1['age_itg_cd'].fillna(49, inplace=True)\n"
   ]
  },
  {
   "cell_type": "code",
   "execution_count": 28,
   "metadata": {},
   "outputs": [
    {
     "name": "stdout",
     "output_type": "stream",
     "text": [
      "<class 'pandas.core.frame.DataFrame'>\n",
      "RangeIndex: 10000 entries, 0 to 9999\n",
      "Data columns (total 14 columns):\n",
      " #   Column                          Non-Null Count  Dtype \n",
      "---  ------                          --------------  ----- \n",
      " 0   voc_prod_sbt_id                 10000 non-null  int64 \n",
      " 1   voc_wjt_sorc_id                 10000 non-null  int64 \n",
      " 2   voc_type_itg_cd                 10000 non-null  int64 \n",
      " 3   voc_sttus_itg_cd                10000 non-null  int64 \n",
      " 4   cust_clas_itg_cd                10000 non-null  object\n",
      " 5   bprod_sbt_id                    10000 non-null  int64 \n",
      " 6   age_itg_cd                      10000 non-null  object\n",
      " 7   cont_sttus_itg_cd               8832 non-null   object\n",
      " 8   cust_dtl_ctg_itg_cd             8832 non-null   object\n",
      " 9   voc_trt_degr_div_itg_cd         10000 non-null  int64 \n",
      " 10  voc_dupl_tmscnt                 10000 non-null  int64 \n",
      " 11  voc_trt_need_time_itg_cd        10000 non-null  int64 \n",
      " 12  cust_snsry_base_conf_need_time  10000 non-null  int64 \n",
      " 13  trm_yn                          10000 non-null  object\n",
      "dtypes: int64(9), object(5)\n",
      "memory usage: 1.1+ MB\n"
     ]
    }
   ],
   "source": [
    "# 여기에 답안코드를 작성하세요.\n",
    "# 'age_itg_cd' 컬럼 type 확인 : Object인지 확인\n",
    "df1.info()\n"
   ]
  },
  {
   "cell_type": "code",
   "execution_count": 29,
   "metadata": {},
   "outputs": [],
   "source": [
    "# 여기에 답안코드를 작성하세요.\n",
    "# DataFrame의 astype() 함수 사용해서 int 인자 삽입\n",
    "# 변경 대상 : df1['age_itg_cd']\n",
    "\n",
    "df1['age_itg_cd'] = df1['age_itg_cd'].astype('int')\n"
   ]
  },
  {
   "cell_type": "code",
   "execution_count": 30,
   "metadata": {},
   "outputs": [
    {
     "data": {
      "text/plain": [
       "0"
      ]
     },
     "execution_count": 30,
     "metadata": {},
     "output_type": "execute_result"
    }
   ],
   "source": [
    "# 여기에 답안코드를 작성하세요.\n",
    "# null 값 개수 확인\n",
    "df1['age_itg_cd'].isna().sum()\n"
   ]
  },
  {
   "cell_type": "code",
   "execution_count": 31,
   "metadata": {},
   "outputs": [
    {
     "name": "stdout",
     "output_type": "stream",
     "text": [
      "<class 'pandas.core.frame.DataFrame'>\n",
      "RangeIndex: 10000 entries, 0 to 9999\n",
      "Data columns (total 14 columns):\n",
      " #   Column                          Non-Null Count  Dtype \n",
      "---  ------                          --------------  ----- \n",
      " 0   voc_prod_sbt_id                 10000 non-null  int64 \n",
      " 1   voc_wjt_sorc_id                 10000 non-null  int64 \n",
      " 2   voc_type_itg_cd                 10000 non-null  int64 \n",
      " 3   voc_sttus_itg_cd                10000 non-null  int64 \n",
      " 4   cust_clas_itg_cd                10000 non-null  object\n",
      " 5   bprod_sbt_id                    10000 non-null  int64 \n",
      " 6   age_itg_cd                      10000 non-null  int64 \n",
      " 7   cont_sttus_itg_cd               8832 non-null   object\n",
      " 8   cust_dtl_ctg_itg_cd             8832 non-null   object\n",
      " 9   voc_trt_degr_div_itg_cd         10000 non-null  int64 \n",
      " 10  voc_dupl_tmscnt                 10000 non-null  int64 \n",
      " 11  voc_trt_need_time_itg_cd        10000 non-null  int64 \n",
      " 12  cust_snsry_base_conf_need_time  10000 non-null  int64 \n",
      " 13  trm_yn                          10000 non-null  object\n",
      "dtypes: int64(10), object(4)\n",
      "memory usage: 1.1+ MB\n"
     ]
    }
   ],
   "source": [
    "# 여기에 답안코드를 작성하세요.\n",
    "# age_itg_cd 컬럼 type 확인 : int32인지 확인\n",
    "df1.info()\n"
   ]
  },
  {
   "cell_type": "markdown",
   "metadata": {},
   "source": [
    "**<br>\n",
    "<font color=blue>문제7. 아래 주석에 따라 'cont_sttus_itg_cd'의 null 값과 'cust_dtl_ctg_itg_cd'의 null 값을 최빈값(mode)으로 변경하세요.</font>**"
   ]
  },
  {
   "cell_type": "code",
   "execution_count": 32,
   "metadata": {},
   "outputs": [
    {
     "data": {
      "text/plain": [
       "1168"
      ]
     },
     "execution_count": 32,
     "metadata": {},
     "output_type": "execute_result"
    }
   ],
   "source": [
    "# 여기에 답안코드를 작성하세요.\n",
    "# 'cont_sttus_itg_cd' 컬럼에서 NULL 값 개수 계산\n",
    "df1['cont_sttus_itg_cd'].isna().sum()\n"
   ]
  },
  {
   "cell_type": "code",
   "execution_count": 33,
   "metadata": {},
   "outputs": [
    {
     "data": {
      "text/plain": [
       "10001    0.888021\n",
       "10005    0.062500\n",
       "10003    0.019701\n",
       "10007    0.019135\n",
       "10002    0.007360\n",
       "10006    0.002831\n",
       "10004    0.000453\n",
       "Name: cont_sttus_itg_cd, dtype: float64"
      ]
     },
     "execution_count": 33,
     "metadata": {},
     "output_type": "execute_result"
    }
   ],
   "source": [
    "# 여기에 답안코드를 작성하세요.\n",
    "# 'cont_sttus_itg_cd' 컬럼의 각 고유 값들의 빈도를 계산\n",
    "df1['cont_sttus_itg_cd'].value_counts(normalize=True)\n"
   ]
  },
  {
   "cell_type": "code",
   "execution_count": 34,
   "metadata": {},
   "outputs": [],
   "source": [
    "# 여기에 답안코드를 작성하세요.\n",
    "# 'cont_sttus_itg_cd' 컬럼의 빈 값을 '10001'로 대체합\n",
    "# inplace=True로 설정\n",
    "\n",
    "df1['cont_sttus_itg_cd'].fillna('10001', inplace=True)"
   ]
  },
  {
   "cell_type": "code",
   "execution_count": 35,
   "metadata": {},
   "outputs": [
    {
     "data": {
      "text/plain": [
       "0"
      ]
     },
     "execution_count": 35,
     "metadata": {},
     "output_type": "execute_result"
    }
   ],
   "source": [
    "# 여기에 답안코드를 작성하세요.\n",
    "# 'cont_sttus_itg_cd' 컬럼에서 NULL 값 개수 확인\n",
    "df1['cont_sttus_itg_cd'].isna().sum()"
   ]
  },
  {
   "cell_type": "markdown",
   "metadata": {},
   "source": [
    "#####\n",
    "**'cust_dtl_ctg_itg_cd'의 null 값을 최빈값(mode)으로 변경하세요</font>**"
   ]
  },
  {
   "cell_type": "code",
   "execution_count": 36,
   "metadata": {},
   "outputs": [
    {
     "data": {
      "text/plain": [
       "1168"
      ]
     },
     "execution_count": 36,
     "metadata": {},
     "output_type": "execute_result"
    }
   ],
   "source": [
    "# 여기에 답안코드를 작성하세요.\n",
    "# 'cust_dtl_ctg_itg_cd' 컬럼에서 NULL 값 개수 계산\n",
    "df1['cust_dtl_ctg_itg_cd'].isna().sum()"
   ]
  },
  {
   "cell_type": "code",
   "execution_count": 37,
   "metadata": {},
   "outputs": [
    {
     "data": {
      "text/plain": [
       "10003    0.585485\n",
       "10002    0.150476\n",
       "90029    0.131341\n",
       "10019    0.044044\n",
       "90056    0.041667\n",
       "90027    0.024570\n",
       "90024    0.013474\n",
       "10018    0.002831\n",
       "10011    0.002831\n",
       "90030    0.002717\n",
       "10001    0.000453\n",
       "10004    0.000113\n",
       "Name: cust_dtl_ctg_itg_cd, dtype: float64"
      ]
     },
     "execution_count": 37,
     "metadata": {},
     "output_type": "execute_result"
    }
   ],
   "source": [
    "# 여기에 답안코드를 작성하세요.\n",
    "# 'cust_dtl_ctg_itg_cd' 컬럼의 각 고유 값들의 빈도를 계산\n",
    "df1['cust_dtl_ctg_itg_cd'].value_counts(normalize=True)"
   ]
  },
  {
   "cell_type": "code",
   "execution_count": 38,
   "metadata": {},
   "outputs": [],
   "source": [
    "# 여기에 답안코드를 작성하세요.\n",
    "# 'cust_dtl_ctg_itg_cd' 컬럼의 빈 값을 '10001'로 대체합\n",
    "# inplace=True로 설정\n",
    "df1['cust_dtl_ctg_itg_cd'].fillna('10001', inplace=True)"
   ]
  },
  {
   "cell_type": "code",
   "execution_count": 39,
   "metadata": {},
   "outputs": [
    {
     "data": {
      "text/plain": [
       "0"
      ]
     },
     "execution_count": 39,
     "metadata": {},
     "output_type": "execute_result"
    }
   ],
   "source": [
    "# 여기에 답안코드를 작성하세요.\n",
    "# 'cust_dtl_ctg_itg_cd' 컬럼에서 NULL 값 개수 확인\n",
    "df1['cust_dtl_ctg_itg_cd'].isna().sum()"
   ]
  },
  {
   "cell_type": "markdown",
   "metadata": {},
   "source": [
    "<br>"
   ]
  },
  {
   "cell_type": "markdown",
   "metadata": {},
   "source": [
    "## **<span style=\"color:black\">라벨 인코딩, 원핫 인코딩</span>**"
   ]
  },
  {
   "cell_type": "markdown",
   "metadata": {},
   "source": [
    "#####\n",
    "**컬럼 타입 object를 별도 dataframe에 저장하고 cust_clas_itg_cd 컬럼에 대해 LabelEncoder를 적용해보세요.</font>**"
   ]
  },
  {
   "cell_type": "code",
   "execution_count": 42,
   "metadata": {},
   "outputs": [],
   "source": [
    "# 컬럼 타입 Ojbect 선택\n",
    "# 'df1'에서 문자열(object) 데이터 타입을 가진 열들을 선택하여 'cat_cols'라는 변수에 저장\n",
    "cat_cols = df1.select_dtypes('object')"
   ]
  },
  {
   "cell_type": "code",
   "execution_count": 43,
   "metadata": {},
   "outputs": [
    {
     "data": {
      "text/html": [
       "<div>\n",
       "<style scoped>\n",
       "    .dataframe tbody tr th:only-of-type {\n",
       "        vertical-align: middle;\n",
       "    }\n",
       "\n",
       "    .dataframe tbody tr th {\n",
       "        vertical-align: top;\n",
       "    }\n",
       "\n",
       "    .dataframe thead th {\n",
       "        text-align: right;\n",
       "    }\n",
       "</style>\n",
       "<table border=\"1\" class=\"dataframe\">\n",
       "  <thead>\n",
       "    <tr style=\"text-align: right;\">\n",
       "      <th></th>\n",
       "      <th>cust_clas_itg_cd</th>\n",
       "      <th>cont_sttus_itg_cd</th>\n",
       "      <th>cust_dtl_ctg_itg_cd</th>\n",
       "      <th>trm_yn</th>\n",
       "    </tr>\n",
       "  </thead>\n",
       "  <tbody>\n",
       "    <tr>\n",
       "      <th>0</th>\n",
       "      <td>F</td>\n",
       "      <td>10001</td>\n",
       "      <td>10003</td>\n",
       "      <td>N</td>\n",
       "    </tr>\n",
       "    <tr>\n",
       "      <th>1</th>\n",
       "      <td>G</td>\n",
       "      <td>10001</td>\n",
       "      <td>10002</td>\n",
       "      <td>N</td>\n",
       "    </tr>\n",
       "    <tr>\n",
       "      <th>2</th>\n",
       "      <td>G</td>\n",
       "      <td>10001</td>\n",
       "      <td>10003</td>\n",
       "      <td>N</td>\n",
       "    </tr>\n",
       "    <tr>\n",
       "      <th>3</th>\n",
       "      <td>L</td>\n",
       "      <td>10001</td>\n",
       "      <td>90024</td>\n",
       "      <td>N</td>\n",
       "    </tr>\n",
       "    <tr>\n",
       "      <th>4</th>\n",
       "      <td>G</td>\n",
       "      <td>10001</td>\n",
       "      <td>90024</td>\n",
       "      <td>N</td>\n",
       "    </tr>\n",
       "  </tbody>\n",
       "</table>\n",
       "</div>"
      ],
      "text/plain": [
       "  cust_clas_itg_cd cont_sttus_itg_cd cust_dtl_ctg_itg_cd trm_yn\n",
       "0                F             10001               10003      N\n",
       "1                G             10001               10002      N\n",
       "2                G             10001               10003      N\n",
       "3                L             10001               90024      N\n",
       "4                G             10001               90024      N"
      ]
     },
     "execution_count": 43,
     "metadata": {},
     "output_type": "execute_result"
    }
   ],
   "source": [
    "# cat_cols 앞행 확인\n",
    "cat_cols.head()\n"
   ]
  },
  {
   "cell_type": "code",
   "execution_count": 50,
   "metadata": {},
   "outputs": [],
   "source": [
    "# scikit-learn의 LabelEncoder를 임포트하세요.\n",
    "# LabelEncoder 객체를 초기화하고 le 변수에 저장\n",
    "# cat_cols 데이터프레임에서 'cust_clas_itg_cd' 열의 범주형 데이터를 숫자로 인코딩하고, 그 결과를 'le_cust_clas_itg_cd' 열에 저장\n",
    "from sklearn.preprocessing import LabelEncoder\n",
    "\n",
    "le = LabelEncoder()\n",
    "cat_cols['le_cust_clas_itg_cd'] = le.fit_transform(cat_cols['cust_clas_itg_cd'])\n",
    "cat_cols.drop('cust_clas_itg_cd', axis=1, inplace=True)"
   ]
  },
  {
   "cell_type": "code",
   "execution_count": 51,
   "metadata": {
    "tags": []
   },
   "outputs": [
    {
     "data": {
      "text/html": [
       "<div>\n",
       "<style scoped>\n",
       "    .dataframe tbody tr th:only-of-type {\n",
       "        vertical-align: middle;\n",
       "    }\n",
       "\n",
       "    .dataframe tbody tr th {\n",
       "        vertical-align: top;\n",
       "    }\n",
       "\n",
       "    .dataframe thead th {\n",
       "        text-align: right;\n",
       "    }\n",
       "</style>\n",
       "<table border=\"1\" class=\"dataframe\">\n",
       "  <thead>\n",
       "    <tr style=\"text-align: right;\">\n",
       "      <th></th>\n",
       "      <th>cont_sttus_itg_cd</th>\n",
       "      <th>cust_dtl_ctg_itg_cd</th>\n",
       "      <th>trm_yn</th>\n",
       "      <th>le_cust_clas_itg_cd</th>\n",
       "    </tr>\n",
       "  </thead>\n",
       "  <tbody>\n",
       "    <tr>\n",
       "      <th>0</th>\n",
       "      <td>10001</td>\n",
       "      <td>10003</td>\n",
       "      <td>N</td>\n",
       "      <td>0</td>\n",
       "    </tr>\n",
       "    <tr>\n",
       "      <th>1</th>\n",
       "      <td>10001</td>\n",
       "      <td>10002</td>\n",
       "      <td>N</td>\n",
       "      <td>1</td>\n",
       "    </tr>\n",
       "    <tr>\n",
       "      <th>2</th>\n",
       "      <td>10001</td>\n",
       "      <td>10003</td>\n",
       "      <td>N</td>\n",
       "      <td>1</td>\n",
       "    </tr>\n",
       "    <tr>\n",
       "      <th>3</th>\n",
       "      <td>10001</td>\n",
       "      <td>90024</td>\n",
       "      <td>N</td>\n",
       "      <td>5</td>\n",
       "    </tr>\n",
       "    <tr>\n",
       "      <th>4</th>\n",
       "      <td>10001</td>\n",
       "      <td>90024</td>\n",
       "      <td>N</td>\n",
       "      <td>1</td>\n",
       "    </tr>\n",
       "  </tbody>\n",
       "</table>\n",
       "</div>"
      ],
      "text/plain": [
       "  cont_sttus_itg_cd cust_dtl_ctg_itg_cd trm_yn  le_cust_clas_itg_cd\n",
       "0             10001               10003      N                    0\n",
       "1             10001               10002      N                    1\n",
       "2             10001               10003      N                    1\n",
       "3             10001               90024      N                    5\n",
       "4             10001               90024      N                    1"
      ]
     },
     "execution_count": 51,
     "metadata": {},
     "output_type": "execute_result"
    }
   ],
   "source": [
    "# cat_cols 앞행 확인\n",
    "cat_cols.head()\n"
   ]
  },
  {
   "cell_type": "markdown",
   "metadata": {},
   "source": [
    "**<br>\n",
    "<font color=blue>문제8. 범주형 컬럼(cat_columns)에 대해서 One-Hot-Encoding될 수 있도록 Pandas의 get_dummies 함수를 적용하세요</font>**\n",
    "**<br>\n",
    "<font color=blue>원-핫인코딩으로 아래 조건에 해당하는 컬럼 데이터를 변환하세요.</font>**\n",
    "+ 범주형 컬럼을 찾아 cat_columns에 저장하세요\n",
    "+ Pandas의 get_dummies 함수 사용\n",
    "+ 대상 데이터프레임 : df1\n",
    "+ columns=cat_columns\n",
    "+ drop_first=True\n",
    "+ 해당 전처리가 반영된 결과를 'df1' DataFrame에 저장해 주세요."
   ]
  },
  {
   "cell_type": "code",
   "execution_count": 52,
   "metadata": {},
   "outputs": [],
   "source": [
    "# 여기에 답안코드를 작성하세요.\n",
    "cat_columns = df1.select_dtypes('object').columns\n",
    "df1 = pd.get_dummies(df1, columns = cat_columns, drop_first = True)\n",
    "\n"
   ]
  },
  {
   "cell_type": "code",
   "execution_count": 53,
   "metadata": {},
   "outputs": [
    {
     "name": "stdout",
     "output_type": "stream",
     "text": [
      "<class 'pandas.core.frame.DataFrame'>\n",
      "RangeIndex: 10000 entries, 0 to 9999\n",
      "Data columns (total 35 columns):\n",
      " #   Column                          Non-Null Count  Dtype\n",
      "---  ------                          --------------  -----\n",
      " 0   voc_prod_sbt_id                 10000 non-null  int64\n",
      " 1   voc_wjt_sorc_id                 10000 non-null  int64\n",
      " 2   voc_type_itg_cd                 10000 non-null  int64\n",
      " 3   voc_sttus_itg_cd                10000 non-null  int64\n",
      " 4   bprod_sbt_id                    10000 non-null  int64\n",
      " 5   age_itg_cd                      10000 non-null  int64\n",
      " 6   voc_trt_degr_div_itg_cd         10000 non-null  int64\n",
      " 7   voc_dupl_tmscnt                 10000 non-null  int64\n",
      " 8   voc_trt_need_time_itg_cd        10000 non-null  int64\n",
      " 9   cust_snsry_base_conf_need_time  10000 non-null  int64\n",
      " 10  cust_clas_itg_cd_G              10000 non-null  uint8\n",
      " 11  cust_clas_itg_cd_H              10000 non-null  uint8\n",
      " 12  cust_clas_itg_cd_I              10000 non-null  uint8\n",
      " 13  cust_clas_itg_cd_J              10000 non-null  uint8\n",
      " 14  cust_clas_itg_cd_L              10000 non-null  uint8\n",
      " 15  cust_clas_itg_cd_M              10000 non-null  uint8\n",
      " 16  cust_clas_itg_cd_O              10000 non-null  uint8\n",
      " 17  cont_sttus_itg_cd_10002         10000 non-null  uint8\n",
      " 18  cont_sttus_itg_cd_10003         10000 non-null  uint8\n",
      " 19  cont_sttus_itg_cd_10004         10000 non-null  uint8\n",
      " 20  cont_sttus_itg_cd_10005         10000 non-null  uint8\n",
      " 21  cont_sttus_itg_cd_10006         10000 non-null  uint8\n",
      " 22  cont_sttus_itg_cd_10007         10000 non-null  uint8\n",
      " 23  cust_dtl_ctg_itg_cd_10002       10000 non-null  uint8\n",
      " 24  cust_dtl_ctg_itg_cd_10003       10000 non-null  uint8\n",
      " 25  cust_dtl_ctg_itg_cd_10004       10000 non-null  uint8\n",
      " 26  cust_dtl_ctg_itg_cd_10011       10000 non-null  uint8\n",
      " 27  cust_dtl_ctg_itg_cd_10018       10000 non-null  uint8\n",
      " 28  cust_dtl_ctg_itg_cd_10019       10000 non-null  uint8\n",
      " 29  cust_dtl_ctg_itg_cd_90024       10000 non-null  uint8\n",
      " 30  cust_dtl_ctg_itg_cd_90027       10000 non-null  uint8\n",
      " 31  cust_dtl_ctg_itg_cd_90029       10000 non-null  uint8\n",
      " 32  cust_dtl_ctg_itg_cd_90030       10000 non-null  uint8\n",
      " 33  cust_dtl_ctg_itg_cd_90056       10000 non-null  uint8\n",
      " 34  trm_yn_Y                        10000 non-null  uint8\n",
      "dtypes: int64(10), uint8(25)\n",
      "memory usage: 1.0 MB\n"
     ]
    }
   ],
   "source": [
    "# 아래와 같이 범주형 컬럼에 대해 One-Hot-Encoding 된 컬럼 확인\n",
    "df1.info()\n"
   ]
  },
  {
   "cell_type": "markdown",
   "metadata": {},
   "source": [
    "## **<span style=\"color:black\">x,y 데이터 분리</span>**"
   ]
  },
  {
   "cell_type": "code",
   "execution_count": 54,
   "metadata": {},
   "outputs": [
    {
     "data": {
      "text/html": [
       "<div>\n",
       "<style scoped>\n",
       "    .dataframe tbody tr th:only-of-type {\n",
       "        vertical-align: middle;\n",
       "    }\n",
       "\n",
       "    .dataframe tbody tr th {\n",
       "        vertical-align: top;\n",
       "    }\n",
       "\n",
       "    .dataframe thead th {\n",
       "        text-align: right;\n",
       "    }\n",
       "</style>\n",
       "<table border=\"1\" class=\"dataframe\">\n",
       "  <thead>\n",
       "    <tr style=\"text-align: right;\">\n",
       "      <th></th>\n",
       "      <th>voc_prod_sbt_id</th>\n",
       "      <th>voc_wjt_sorc_id</th>\n",
       "      <th>voc_type_itg_cd</th>\n",
       "      <th>voc_sttus_itg_cd</th>\n",
       "      <th>bprod_sbt_id</th>\n",
       "      <th>age_itg_cd</th>\n",
       "      <th>voc_trt_degr_div_itg_cd</th>\n",
       "      <th>voc_dupl_tmscnt</th>\n",
       "      <th>voc_trt_need_time_itg_cd</th>\n",
       "      <th>cust_snsry_base_conf_need_time</th>\n",
       "      <th>...</th>\n",
       "      <th>cust_dtl_ctg_itg_cd_10004</th>\n",
       "      <th>cust_dtl_ctg_itg_cd_10011</th>\n",
       "      <th>cust_dtl_ctg_itg_cd_10018</th>\n",
       "      <th>cust_dtl_ctg_itg_cd_10019</th>\n",
       "      <th>cust_dtl_ctg_itg_cd_90024</th>\n",
       "      <th>cust_dtl_ctg_itg_cd_90027</th>\n",
       "      <th>cust_dtl_ctg_itg_cd_90029</th>\n",
       "      <th>cust_dtl_ctg_itg_cd_90030</th>\n",
       "      <th>cust_dtl_ctg_itg_cd_90056</th>\n",
       "      <th>trm_yn_Y</th>\n",
       "    </tr>\n",
       "  </thead>\n",
       "  <tbody>\n",
       "    <tr>\n",
       "      <th>0</th>\n",
       "      <td>1000665328</td>\n",
       "      <td>2153</td>\n",
       "      <td>10009</td>\n",
       "      <td>10002</td>\n",
       "      <td>1000001126</td>\n",
       "      <td>36</td>\n",
       "      <td>20001</td>\n",
       "      <td>0</td>\n",
       "      <td>10001</td>\n",
       "      <td>0</td>\n",
       "      <td>...</td>\n",
       "      <td>0</td>\n",
       "      <td>0</td>\n",
       "      <td>0</td>\n",
       "      <td>0</td>\n",
       "      <td>0</td>\n",
       "      <td>0</td>\n",
       "      <td>0</td>\n",
       "      <td>0</td>\n",
       "      <td>0</td>\n",
       "      <td>0</td>\n",
       "    </tr>\n",
       "    <tr>\n",
       "      <th>1</th>\n",
       "      <td>1001028714</td>\n",
       "      <td>3311</td>\n",
       "      <td>10009</td>\n",
       "      <td>10002</td>\n",
       "      <td>1000852226</td>\n",
       "      <td>32</td>\n",
       "      <td>20001</td>\n",
       "      <td>0</td>\n",
       "      <td>10001</td>\n",
       "      <td>0</td>\n",
       "      <td>...</td>\n",
       "      <td>0</td>\n",
       "      <td>0</td>\n",
       "      <td>0</td>\n",
       "      <td>0</td>\n",
       "      <td>0</td>\n",
       "      <td>0</td>\n",
       "      <td>0</td>\n",
       "      <td>0</td>\n",
       "      <td>0</td>\n",
       "      <td>0</td>\n",
       "    </tr>\n",
       "    <tr>\n",
       "      <th>2</th>\n",
       "      <td>1001028567</td>\n",
       "      <td>1575</td>\n",
       "      <td>10009</td>\n",
       "      <td>10002</td>\n",
       "      <td>1000851875</td>\n",
       "      <td>52</td>\n",
       "      <td>20001</td>\n",
       "      <td>0</td>\n",
       "      <td>10001</td>\n",
       "      <td>0</td>\n",
       "      <td>...</td>\n",
       "      <td>0</td>\n",
       "      <td>0</td>\n",
       "      <td>0</td>\n",
       "      <td>0</td>\n",
       "      <td>0</td>\n",
       "      <td>0</td>\n",
       "      <td>0</td>\n",
       "      <td>0</td>\n",
       "      <td>0</td>\n",
       "      <td>0</td>\n",
       "    </tr>\n",
       "    <tr>\n",
       "      <th>3</th>\n",
       "      <td>1000665328</td>\n",
       "      <td>3546</td>\n",
       "      <td>10009</td>\n",
       "      <td>10002</td>\n",
       "      <td>1000001126</td>\n",
       "      <td>49</td>\n",
       "      <td>20001</td>\n",
       "      <td>0</td>\n",
       "      <td>10001</td>\n",
       "      <td>0</td>\n",
       "      <td>...</td>\n",
       "      <td>0</td>\n",
       "      <td>0</td>\n",
       "      <td>0</td>\n",
       "      <td>0</td>\n",
       "      <td>1</td>\n",
       "      <td>0</td>\n",
       "      <td>0</td>\n",
       "      <td>0</td>\n",
       "      <td>0</td>\n",
       "      <td>0</td>\n",
       "    </tr>\n",
       "    <tr>\n",
       "      <th>4</th>\n",
       "      <td>1000779276</td>\n",
       "      <td>3086</td>\n",
       "      <td>10009</td>\n",
       "      <td>10002</td>\n",
       "      <td>1000764639</td>\n",
       "      <td>50</td>\n",
       "      <td>20001</td>\n",
       "      <td>0</td>\n",
       "      <td>10001</td>\n",
       "      <td>0</td>\n",
       "      <td>...</td>\n",
       "      <td>0</td>\n",
       "      <td>0</td>\n",
       "      <td>0</td>\n",
       "      <td>0</td>\n",
       "      <td>1</td>\n",
       "      <td>0</td>\n",
       "      <td>0</td>\n",
       "      <td>0</td>\n",
       "      <td>0</td>\n",
       "      <td>0</td>\n",
       "    </tr>\n",
       "  </tbody>\n",
       "</table>\n",
       "<p>5 rows × 35 columns</p>\n",
       "</div>"
      ],
      "text/plain": [
       "   voc_prod_sbt_id  voc_wjt_sorc_id  voc_type_itg_cd  voc_sttus_itg_cd  \\\n",
       "0       1000665328             2153            10009             10002   \n",
       "1       1001028714             3311            10009             10002   \n",
       "2       1001028567             1575            10009             10002   \n",
       "3       1000665328             3546            10009             10002   \n",
       "4       1000779276             3086            10009             10002   \n",
       "\n",
       "   bprod_sbt_id  age_itg_cd  voc_trt_degr_div_itg_cd  voc_dupl_tmscnt  \\\n",
       "0    1000001126          36                    20001                0   \n",
       "1    1000852226          32                    20001                0   \n",
       "2    1000851875          52                    20001                0   \n",
       "3    1000001126          49                    20001                0   \n",
       "4    1000764639          50                    20001                0   \n",
       "\n",
       "   voc_trt_need_time_itg_cd  cust_snsry_base_conf_need_time  ...  \\\n",
       "0                     10001                               0  ...   \n",
       "1                     10001                               0  ...   \n",
       "2                     10001                               0  ...   \n",
       "3                     10001                               0  ...   \n",
       "4                     10001                               0  ...   \n",
       "\n",
       "   cust_dtl_ctg_itg_cd_10004  cust_dtl_ctg_itg_cd_10011  \\\n",
       "0                          0                          0   \n",
       "1                          0                          0   \n",
       "2                          0                          0   \n",
       "3                          0                          0   \n",
       "4                          0                          0   \n",
       "\n",
       "   cust_dtl_ctg_itg_cd_10018  cust_dtl_ctg_itg_cd_10019  \\\n",
       "0                          0                          0   \n",
       "1                          0                          0   \n",
       "2                          0                          0   \n",
       "3                          0                          0   \n",
       "4                          0                          0   \n",
       "\n",
       "   cust_dtl_ctg_itg_cd_90024  cust_dtl_ctg_itg_cd_90027  \\\n",
       "0                          0                          0   \n",
       "1                          0                          0   \n",
       "2                          0                          0   \n",
       "3                          1                          0   \n",
       "4                          1                          0   \n",
       "\n",
       "   cust_dtl_ctg_itg_cd_90029  cust_dtl_ctg_itg_cd_90030  \\\n",
       "0                          0                          0   \n",
       "1                          0                          0   \n",
       "2                          0                          0   \n",
       "3                          0                          0   \n",
       "4                          0                          0   \n",
       "\n",
       "   cust_dtl_ctg_itg_cd_90056  trm_yn_Y  \n",
       "0                          0         0  \n",
       "1                          0         0  \n",
       "2                          0         0  \n",
       "3                          0         0  \n",
       "4                          0         0  \n",
       "\n",
       "[5 rows x 35 columns]"
      ]
     },
     "execution_count": 54,
     "metadata": {},
     "output_type": "execute_result"
    }
   ],
   "source": [
    "# df1 앞행 확인\n",
    "df1.head()\n"
   ]
  },
  {
   "cell_type": "markdown",
   "metadata": {},
   "source": [
    "**<br>\n",
    "<font color=blue>문제9. X, y 값을 가지고 8:2 비율로 Train , Test Dataset으로 나누려고 합니다. 아래 조건에 따라 훈련데이터셋과 테스트데이터셋으로 분리하세요.</font>**\n",
    "+ 대상 데이터프레임 : df1\n",
    "+ 훈련 데이터셋 label : y_train, 훈련 데이터셋 Feature : X_train\n",
    "+ 테스트 데이터셋 label : y_test, 테스트 데이터셋 Feature : X_test\n",
    "+ X, y, test_size=0.2, stratify=y, random_state=0\n",
    "+ 사이킷런 train_test_split 함수 사용"
   ]
  },
  {
   "cell_type": "code",
   "execution_count": 55,
   "metadata": {},
   "outputs": [],
   "source": [
    "# 아래 코드를 실행하세요.\n",
    "\n",
    "# 사이킷런 train_test_split 함수 임포트\n",
    "# 'df1' DataFrame의 drop 함수 사용\n",
    "# 옵션 : columns=['trm_yn_Y'], DataFrame 값을 저장하기 위해 values 사용\n",
    "# 'trm_yn_Y' 열을 제외한 모든 열을 포함하는 데이터프레임 'X' 생성\n",
    "# 'trm_yn_Y' 열을 선택하여 'y'에 저장\n",
    "from sklearn.model_selection import train_test_split\n",
    "\n",
    "X = df1.drop('trm_yn_Y', axis=1)\n",
    "y = df1['trm_yn_Y']"
   ]
  },
  {
   "cell_type": "code",
   "execution_count": 56,
   "metadata": {
    "tags": []
   },
   "outputs": [],
   "source": [
    "# 여기에 답안코드를 작성하세요.\n",
    "# 인자 : X, y, test_size=0.2, stratify=y, random_state=0\n",
    "# 결과 : X_train, X_test, y_train, y_test \n",
    "X_train, X_test, y_train, y_test = train_test_split(X, y, test_size = 0.2, stratify = y, random_state = 0)\n"
   ]
  },
  {
   "cell_type": "markdown",
   "metadata": {},
   "source": [
    "<br>"
   ]
  },
  {
   "cell_type": "markdown",
   "metadata": {},
   "source": [
    "## **<span style=\"color:black\">데이터 정규분포화, 표준화</span>**"
   ]
  },
  {
   "cell_type": "markdown",
   "metadata": {},
   "source": [
    "**<br>\n",
    "<font color=blue>문제10. 사이킷런의 MinMaxScaler 함수를 정의하고 mms 변수에 저장하세요. 훈련데이터셋은 정규분포화(fit_transform)하고 테스트데이터셋은 표준화(transform)하세요.</font>**\n",
    "+ 사이킷런의 MinMaxScaler() 함수 사용, 임포트하세요.\n",
    "+ MinMaxScaler 객체를 초기화하고 mms 변수에 저장\n",
    "+ 훈련 데이터 'X_train'을 최소-최대 스케일링하여 변환, fit_transform 메서드 적용\n",
    "+ 테스트 데이터 'X_test'를 훈련 데이터에 맞춰 스케일링, transform 메서드 적용"
   ]
  },
  {
   "cell_type": "code",
   "execution_count": 58,
   "metadata": {},
   "outputs": [],
   "source": [
    "# 여기에 답안코드를 작성하세요.\n",
    "from sklearn.preprocessing import MinMaxScaler\n",
    "\n",
    "mms = MinMaxScaler()\n",
    "X_train = mms.fit_transform(X_train)\n",
    "X_test = mms.transform(X_test)"
   ]
  },
  {
   "cell_type": "code",
   "execution_count": 59,
   "metadata": {},
   "outputs": [
    {
     "data": {
      "text/html": [
       "<div>\n",
       "<style scoped>\n",
       "    .dataframe tbody tr th:only-of-type {\n",
       "        vertical-align: middle;\n",
       "    }\n",
       "\n",
       "    .dataframe tbody tr th {\n",
       "        vertical-align: top;\n",
       "    }\n",
       "\n",
       "    .dataframe thead th {\n",
       "        text-align: right;\n",
       "    }\n",
       "</style>\n",
       "<table border=\"1\" class=\"dataframe\">\n",
       "  <thead>\n",
       "    <tr style=\"text-align: right;\">\n",
       "      <th></th>\n",
       "      <th>voc_prod_sbt_id</th>\n",
       "    </tr>\n",
       "  </thead>\n",
       "  <tbody>\n",
       "    <tr>\n",
       "      <th>0</th>\n",
       "      <td>0.999706</td>\n",
       "    </tr>\n",
       "    <tr>\n",
       "      <th>1</th>\n",
       "      <td>0.999589</td>\n",
       "    </tr>\n",
       "    <tr>\n",
       "      <th>2</th>\n",
       "      <td>0.999983</td>\n",
       "    </tr>\n",
       "    <tr>\n",
       "      <th>3</th>\n",
       "      <td>0.999702</td>\n",
       "    </tr>\n",
       "    <tr>\n",
       "      <th>4</th>\n",
       "      <td>0.999949</td>\n",
       "    </tr>\n",
       "  </tbody>\n",
       "</table>\n",
       "</div>"
      ],
      "text/plain": [
       "   voc_prod_sbt_id\n",
       "0         0.999706\n",
       "1         0.999589\n",
       "2         0.999983\n",
       "3         0.999702\n",
       "4         0.999949"
      ]
     },
     "execution_count": 59,
     "metadata": {},
     "output_type": "execute_result"
    }
   ],
   "source": [
    "# 아래 코드를 실행하세요.\n",
    "# voc_prod_sbt_id 컬럼의 값이 1보다 작은 숫자인 것 확인\n",
    "\n",
    "pd.DataFrame(X_train[:, 0], columns=['voc_prod_sbt_id']).head()\n"
   ]
  },
  {
   "cell_type": "markdown",
   "metadata": {},
   "source": [
    "## **<span style=\"color:black\">머신러닝 모델링 & 모델 성능평가 및 그래프 출력</span>**"
   ]
  },
  {
   "cell_type": "markdown",
   "metadata": {},
   "source": [
    "### 로지스틱 회귀 (LogisticRegression, 분류)"
   ]
  },
  {
   "cell_type": "code",
   "execution_count": 60,
   "metadata": {},
   "outputs": [],
   "source": [
    "# 아래 코드를 실행하세요.\n",
    "\n",
    "from sklearn.linear_model import LogisticRegression\n",
    "from sklearn.metrics import confusion_matrix \n",
    "from sklearn.metrics import accuracy_score, precision_score, recall_score, f1_score\n",
    "from sklearn.metrics import classification_report"
   ]
  },
  {
   "cell_type": "markdown",
   "metadata": {},
   "source": [
    "**<br>\n",
    "<font color=blue>문제11. LogisticRegression 모델을 만들고 학습을 진행하세요.</font>**\n",
    "+ 규제강도C : 1.0으로 설정\n",
    "+ 계산에 사용할 작업수 max_iter : 2000으로 설정\n",
    "+ fit을 활용해 모델을 학습해주세요. 학습 시 훈련데이터 셋을 활용해주세요.\n",
    "+ 모델의 테스트 데이터 X_test에 대한 예측 정확도를 계산해주세요."
   ]
  },
  {
   "cell_type": "code",
   "execution_count": 62,
   "metadata": {},
   "outputs": [
    {
     "data": {
      "text/plain": [
       "LogisticRegression(max_iter=2000)"
      ]
     },
     "execution_count": 62,
     "metadata": {},
     "output_type": "execute_result"
    }
   ],
   "source": [
    "# 여기에 답안코드를 작성하세요.\n",
    "lg = LogisticRegression(C = 1.0, max_iter = 2000)\n",
    "lg.fit(X_train, y_train)"
   ]
  },
  {
   "cell_type": "markdown",
   "metadata": {},
   "source": [
    "**<br>\n",
    "<font color=blue>문제12. 위 LogisticRegression 모델의 성능을 평가하려고 합니다. y값을 예측하여 confusion matrix를 구하고 heatmap 그래프로 시각화하세요.</font>**\n",
    "**<br>\n",
    "<font color=blue> 그리고 Scikit-learn의 classification_report를 활용하여 성능을 출력하세요.</font>**\n",
    "+ X_test에 대한 예측 수행, 'y_pred'에 결과를 저장하세요.\n",
    "+ 'y_test'와 'y_pred'를 비교하여 confusion_matrix 생성, 'cf_matrix' 변수에 저장하세요.\n",
    "+ heatmap 옵션 : annot=True, fmt='d'\n",
    "+  'y_test'와 'y_pred'를 비교하여 성능지표 출력"
   ]
  },
  {
   "cell_type": "code",
   "execution_count": 64,
   "metadata": {},
   "outputs": [
    {
     "data": {
      "image/png": "[encoded data removed]",
      "text/plain": [
       "<Figure size 432x288 with 2 Axes>"
      ]
     },
     "metadata": {
      "needs_background": "light"
     },
     "output_type": "display_data"
    },
    {
     "name": "stdout",
     "output_type": "stream",
     "text": [
      "              precision    recall  f1-score   support\n",
      "\n",
      "           0       1.00      0.13      0.23      1955\n",
      "           1       0.03      1.00      0.05        45\n",
      "\n",
      "    accuracy                           0.15      2000\n",
      "   macro avg       0.51      0.56      0.14      2000\n",
      "weighted avg       0.98      0.15      0.22      2000\n",
      "\n"
     ]
    }
   ],
   "source": [
    "# 여기에 답안코드를 작성하세요.\n",
    "y_pred = lg.predict(X_test)\n",
    "cf_matrix = confusion_matrix(y_test, y_pred)\n",
    "\n",
    "sns.heatmap(cf_matrix, annot=True, fmt='d')\n",
    "plt.show()\n",
    "\n",
    "print(classification_report(y_test, y_pred))"
   ]
  },
  {
   "cell_type": "markdown",
   "metadata": {},
   "source": [
    "#####\n",
    "**DecisionTree 모델을 만들고 학습을 진행하세요.(단, max_depth는 10, random_state는 42로 설정)</font>**"
   ]
  },
  {
   "cell_type": "code",
   "execution_count": 69,
   "metadata": {},
   "outputs": [
    {
     "name": "stdout",
     "output_type": "stream",
     "text": [
      "              precision    recall  f1-score   support\n",
      "\n",
      "           0       0.98      0.99      0.98      1955\n",
      "           1       0.24      0.18      0.21        45\n",
      "\n",
      "    accuracy                           0.97      2000\n",
      "   macro avg       0.61      0.58      0.59      2000\n",
      "weighted avg       0.96      0.97      0.97      2000\n",
      "\n"
     ]
    }
   ],
   "source": [
    "from sklearn.tree import DecisionTreeClassifier\n",
    "\n",
    "dt = DecisionTreeClassifier(max_depth = 10, random_state = 42)\n",
    "dt.fit(X_train, y_train)\n",
    "\n",
    "dt_pred = dt.predict(X_test)\n",
    "print(classification_report(y_test, dt_pred))"
   ]
  },
  {
   "cell_type": "markdown",
   "metadata": {},
   "source": [
    "#####\n",
    "**RandomForest 모델을 만들고 학습을 진행하세요. (단, n_estimators=100, random_state=42로 설정)</font>**"
   ]
  },
  {
   "cell_type": "code",
   "execution_count": 70,
   "metadata": {},
   "outputs": [
    {
     "name": "stdout",
     "output_type": "stream",
     "text": [
      "              precision    recall  f1-score   support\n",
      "\n",
      "           0       0.98      1.00      0.99      1955\n",
      "           1       0.00      0.00      0.00        45\n",
      "\n",
      "    accuracy                           0.98      2000\n",
      "   macro avg       0.49      0.50      0.49      2000\n",
      "weighted avg       0.96      0.98      0.97      2000\n",
      "\n"
     ]
    }
   ],
   "source": [
    "from sklearn.ensemble import RandomForestClassifier\n",
    "\n",
    "rf = RandomForestClassifier(n_estimators = 100, random_state = 42)\n",
    "rf.fit(X_train, y_train)\n",
    "\n",
    "rf_pred = rf.predict(X_test)\n",
    "print(classification_report(y_test, rf_pred))"
   ]
  },
  {
   "cell_type": "markdown",
   "metadata": {},
   "source": [
    "#####\n",
    "**XGBoost 모델을 만들고 학습을 진행하세요. (단, n_estimators=5 설정)</font>**"
   ]
  },
  {
   "cell_type": "code",
   "execution_count": 71,
   "metadata": {},
   "outputs": [
    {
     "name": "stdout",
     "output_type": "stream",
     "text": [
      "Requirement already satisfied: xgboost in /usr/local/lib/python3.6/dist-packages (0.90)\n",
      "Requirement already satisfied: scipy in /usr/local/lib/python3.6/dist-packages (from xgboost) (1.5.4)\n",
      "Requirement already satisfied: numpy in /usr/local/lib/python3.6/dist-packages (from xgboost) (1.19.5)\n",
      "\u001b[33mWARNING: Running pip as the 'root' user can result in broken permissions and conflicting behaviour with the system package manager. It is recommended to use a virtual environment instead: https://pip.pypa.io/warnings/venv\u001b[0m\n"
     ]
    }
   ],
   "source": [
    "# 아래 코드를 실행하세요.\n",
    "\n",
    "!pip install xgboost"
   ]
  },
  {
   "cell_type": "code",
   "execution_count": 72,
   "metadata": {},
   "outputs": [
    {
     "name": "stdout",
     "output_type": "stream",
     "text": [
      "              precision    recall  f1-score   support\n",
      "\n",
      "           0       0.98      1.00      0.99      1955\n",
      "           1       0.00      0.00      0.00        45\n",
      "\n",
      "    accuracy                           0.98      2000\n",
      "   macro avg       0.49      0.50      0.49      2000\n",
      "weighted avg       0.96      0.98      0.97      2000\n",
      "\n"
     ]
    }
   ],
   "source": [
    "from xgboost import XGBClassifier\n",
    "\n",
    "xgb = XGBClassifier(n_estimators=5, random_state = 42)\n",
    "xgb.fit(X_train, y_train)\n",
    "\n",
    "xgb_pred = xgb.predict(X_test)\n",
    "print(classification_report(y_test, xgb_pred))"
   ]
  },
  {
   "cell_type": "code",
   "execution_count": null,
   "metadata": {},
   "outputs": [],
   "source": [
    "# X_test에 대한 예측 결과를 y_pred에 저장하세요\n",
    "# y_test와 y_pred간의 confusion matrix를 출력하세요\n",
    "\n"
   ]
  },
  {
   "cell_type": "markdown",
   "metadata": {},
   "source": [
    "#####\n",
    "**Light GBM 모델을 만들고 학습을 진행하세요. (단, n_estimators=3 설정)</font>**"
   ]
  },
  {
   "cell_type": "code",
   "execution_count": 73,
   "metadata": {},
   "outputs": [
    {
     "name": "stdout",
     "output_type": "stream",
     "text": [
      "Requirement already satisfied: lightgbm in /usr/local/lib/python3.6/dist-packages (2.3.0)\n",
      "Requirement already satisfied: scikit-learn in /usr/local/lib/python3.6/dist-packages (from lightgbm) (0.24.2)\n",
      "Requirement already satisfied: numpy in /usr/local/lib/python3.6/dist-packages (from lightgbm) (1.19.5)\n",
      "Requirement already satisfied: scipy in /usr/local/lib/python3.6/dist-packages (from lightgbm) (1.5.4)\n",
      "Requirement already satisfied: threadpoolctl>=2.0.0 in /usr/local/lib/python3.6/dist-packages (from scikit-learn->lightgbm) (3.1.0)\n",
      "Requirement already satisfied: joblib>=0.11 in /usr/local/lib/python3.6/dist-packages (from scikit-learn->lightgbm) (1.1.0)\n",
      "\u001b[33mWARNING: Running pip as the 'root' user can result in broken permissions and conflicting behaviour with the system package manager. It is recommended to use a virtual environment instead: https://pip.pypa.io/warnings/venv\u001b[0m\n"
     ]
    }
   ],
   "source": [
    "# 아래 코드를 실행하세요.\n",
    "\n",
    "!pip install lightgbm\n"
   ]
  },
  {
   "cell_type": "code",
   "execution_count": 75,
   "metadata": {},
   "outputs": [
    {
     "name": "stdout",
     "output_type": "stream",
     "text": [
      "              precision    recall  f1-score   support\n",
      "\n",
      "           0       0.98      1.00      0.99      1955\n",
      "           1       0.00      0.00      0.00        45\n",
      "\n",
      "    accuracy                           0.98      2000\n",
      "   macro avg       0.49      0.50      0.49      2000\n",
      "weighted avg       0.96      0.98      0.97      2000\n",
      "\n"
     ]
    }
   ],
   "source": [
    "# lightgbm 모델을 만들고 학습을 진행하세요 n_estimators = 3\n",
    "from lightgbm import LGBMClassifier\n",
    "\n",
    "lgbm = LGBMClassifier(n_estimaotrs=3, random_state = 42)\n",
    "lgbm.fit(X_train, y_train)\n",
    "\n",
    "lgbm_pred = lgbm.predict(X_test)\n",
    "print(classification_report(y_test, lgbm_pred))"
   ]
  },
  {
   "cell_type": "code",
   "execution_count": null,
   "metadata": {},
   "outputs": [],
   "source": [
    "# X_test에 대한 예측 결과를 y_pred에 저장하세요\n",
    "# y_test와 y_pred간의 confusion matrix를 출력하세요\n",
    "\n"
   ]
  },
  {
   "cell_type": "markdown",
   "metadata": {},
   "source": [
    "<br>"
   ]
  },
  {
   "cell_type": "markdown",
   "metadata": {},
   "source": [
    "## **<span style=\"color:black\">딥러닝 모델링 & 모델 성능평가 및 그래프 출력</span>**"
   ]
  },
  {
   "cell_type": "markdown",
   "metadata": {},
   "source": [
    "<font color=red>**다음 문항을 풀기 전에**</font> **아래 주어진 코드들을 실행해주세요.</font>**"
   ]
  },
  {
   "cell_type": "code",
   "execution_count": 76,
   "metadata": {},
   "outputs": [],
   "source": [
    "# 다음 문항을 풀기 전에 아래 코드를 실행하세요.\n",
    "\n",
    "import tensorflow as tf\n",
    "from tensorflow import keras\n",
    "\n",
    "from tensorflow.keras.models import Sequential, load_model\n",
    "from tensorflow.keras.layers import Dense, Dropout\n",
    "from tensorflow.keras.callbacks import EarlyStopping, ModelCheckpoint\n",
    "from tensorflow.keras.utils import to_categorical"
   ]
  },
  {
   "cell_type": "code",
   "execution_count": 77,
   "metadata": {},
   "outputs": [],
   "source": [
    "# 다음 문항을 풀기 전에 아래 코드를 실행하세요.\n",
    "\n",
    "import absl.logging\n",
    "absl.logging.set_verbosity(absl.logging.ERROR)"
   ]
  },
  {
   "cell_type": "code",
   "execution_count": null,
   "metadata": {},
   "outputs": [],
   "source": [
    "# 하이퍼파라미터 설정 : batch_size = 1024, epochs = 30\n",
    "\n"
   ]
  },
  {
   "cell_type": "code",
   "execution_count": 78,
   "metadata": {},
   "outputs": [
    {
     "data": {
      "text/plain": [
       "34"
      ]
     },
     "execution_count": 78,
     "metadata": {},
     "output_type": "execute_result"
    }
   ],
   "source": [
    "# 모델 입력(features) 갯수 확인\n",
    "X_train.shape[1]\n"
   ]
  },
  {
   "cell_type": "code",
   "execution_count": 81,
   "metadata": {},
   "outputs": [
    {
     "data": {
      "text/plain": [
       "(8000,)"
      ]
     },
     "execution_count": 81,
     "metadata": {},
     "output_type": "execute_result"
    }
   ],
   "source": [
    "# 모델 출력(label) 갯수 확인\n",
    "y_train.shape\n"
   ]
  },
  {
   "cell_type": "markdown",
   "metadata": {},
   "source": [
    "**<br>\n",
    "<font color=blue>문제13. 아래 가이드대로 해지여부를 분류하는 딥러닝 모델을 만들려고 합니다. 아래 가이드에 따라 모델링하고 학습을 진행하세요.</font>**"
   ]
  },
  {
   "cell_type": "markdown",
   "metadata": {},
   "source": [
    "+ Tensoflow의 Sequential() 함수를 사용하여 model로 저장하세요.\n",
    "+ 첫번째 Hidden Layer : unit 64, activation='relu', input_shape=(34,) 입력\n",
    "+ 두번째 Hidden Layer : unit 32 , activation='relu'\n",
    "+ 세번째 Hidden Layer : unit 16 , activation='relu'\n",
    "+ 각 Hidden Layer 마다 Dropout 0.2 비율로 되도록 하세요.\n",
    "+ 마지막 Dense에서 'sigmoid' 설정하세요. (0.5 이하이면 정상, 아니면 해지)\n",
    "+ 옵티마이저는 adam, 손실함수는 binary_crossentropy를 사용하세요.\n",
    "+ EarlyStopping 콜백으로 정해진 epoch 동안 모니터링 지표가 향상되지 않을 때 훈련을 중지하도록 설정하세요 (모니터링 지표 : val_loss)\n",
    "+ ModelCheckpoint 콜백으로 validation performance가 좋은 모델을 'my_checkpoint.ckpt' 파일로 저장하세요.(모니터링 지표 : val_loss)\n",
    "+ EarlyStopping 객체는 es 변수에 ModelCheckpoint 객체는 mc 변수에 저장해서 활용해 주세요.\n",
    "+ 학습정보는 history 변수에 저장하세요."
   ]
  },
  {
   "cell_type": "code",
   "execution_count": 103,
   "metadata": {},
   "outputs": [
    {
     "name": "stdout",
     "output_type": "stream",
     "text": [
      "Epoch 1/30\n",
      "7/7 [==============================] - 0s 25ms/step - loss: 0.6374 - accuracy: 0.7033 - val_loss: 0.5119 - val_accuracy: 0.9844\n",
      "INFO:tensorflow:Assets written to: my_checkpoint.ckpt/assets\n",
      "Epoch 2/30\n",
      "7/7 [==============================] - 0s 8ms/step - loss: 0.4714 - accuracy: 0.9530 - val_loss: 0.3378 - val_accuracy: 0.9844\n",
      "INFO:tensorflow:Assets written to: my_checkpoint.ckpt/assets\n",
      "Epoch 3/30\n",
      "7/7 [==============================] - 0s 8ms/step - loss: 0.3238 - accuracy: 0.9746 - val_loss: 0.2014 - val_accuracy: 0.9844\n",
      "INFO:tensorflow:Assets written to: my_checkpoint.ckpt/assets\n",
      "Epoch 4/30\n",
      "7/7 [==============================] - 0s 8ms/step - loss: 0.2072 - accuracy: 0.9773 - val_loss: 0.1204 - val_accuracy: 0.9844\n",
      "INFO:tensorflow:Assets written to: my_checkpoint.ckpt/assets\n",
      "Epoch 5/30\n",
      "7/7 [==============================] - 0s 8ms/step - loss: 0.1486 - accuracy: 0.9773 - val_loss: 0.0899 - val_accuracy: 0.9844\n",
      "INFO:tensorflow:Assets written to: my_checkpoint.ckpt/assets\n",
      "Epoch 6/30\n",
      "7/7 [==============================] - 0s 8ms/step - loss: 0.1372 - accuracy: 0.9751 - val_loss: 0.0845 - val_accuracy: 0.9844\n",
      "INFO:tensorflow:Assets written to: my_checkpoint.ckpt/assets\n",
      "Epoch 7/30\n",
      "7/7 [==============================] - 0s 8ms/step - loss: 0.1249 - accuracy: 0.9777 - val_loss: 0.0845 - val_accuracy: 0.9844\n",
      "Epoch 8/30\n",
      "7/7 [==============================] - 0s 7ms/step - loss: 0.1408 - accuracy: 0.9747 - val_loss: 0.0837 - val_accuracy: 0.9844\n",
      "INFO:tensorflow:Assets written to: my_checkpoint.ckpt/assets\n",
      "Epoch 9/30\n",
      "7/7 [==============================] - 0s 8ms/step - loss: 0.1316 - accuracy: 0.9751 - val_loss: 0.0826 - val_accuracy: 0.9844\n",
      "INFO:tensorflow:Assets written to: my_checkpoint.ckpt/assets\n",
      "Epoch 10/30\n",
      "7/7 [==============================] - 0s 8ms/step - loss: 0.1392 - accuracy: 0.9739 - val_loss: 0.0820 - val_accuracy: 0.9844\n",
      "INFO:tensorflow:Assets written to: my_checkpoint.ckpt/assets\n",
      "Epoch 11/30\n",
      "7/7 [==============================] - 0s 8ms/step - loss: 0.1252 - accuracy: 0.9757 - val_loss: 0.0815 - val_accuracy: 0.9844\n",
      "INFO:tensorflow:Assets written to: my_checkpoint.ckpt/assets\n",
      "Epoch 12/30\n",
      "7/7 [==============================] - 0s 8ms/step - loss: 0.1278 - accuracy: 0.9751 - val_loss: 0.0812 - val_accuracy: 0.9844\n",
      "INFO:tensorflow:Assets written to: my_checkpoint.ckpt/assets\n",
      "Epoch 13/30\n",
      "7/7 [==============================] - 0s 8ms/step - loss: 0.1177 - accuracy: 0.9764 - val_loss: 0.0807 - val_accuracy: 0.9844\n",
      "INFO:tensorflow:Assets written to: my_checkpoint.ckpt/assets\n",
      "Epoch 14/30\n",
      "7/7 [==============================] - 0s 8ms/step - loss: 0.1217 - accuracy: 0.9750 - val_loss: 0.0800 - val_accuracy: 0.9844\n",
      "INFO:tensorflow:Assets written to: my_checkpoint.ckpt/assets\n",
      "Epoch 15/30\n",
      "7/7 [==============================] - 0s 8ms/step - loss: 0.1164 - accuracy: 0.9769 - val_loss: 0.0794 - val_accuracy: 0.9844\n",
      "INFO:tensorflow:Assets written to: my_checkpoint.ckpt/assets\n",
      "Epoch 16/30\n",
      "7/7 [==============================] - 0s 8ms/step - loss: 0.1250 - accuracy: 0.9742 - val_loss: 0.0790 - val_accuracy: 0.9844\n",
      "INFO:tensorflow:Assets written to: my_checkpoint.ckpt/assets\n",
      "Epoch 17/30\n",
      "7/7 [==============================] - 0s 8ms/step - loss: 0.1195 - accuracy: 0.9750 - val_loss: 0.0786 - val_accuracy: 0.9844\n",
      "INFO:tensorflow:Assets written to: my_checkpoint.ckpt/assets\n",
      "Epoch 18/30\n",
      "7/7 [==============================] - 0s 8ms/step - loss: 0.1155 - accuracy: 0.9763 - val_loss: 0.0781 - val_accuracy: 0.9844\n",
      "INFO:tensorflow:Assets written to: my_checkpoint.ckpt/assets\n",
      "Epoch 19/30\n",
      "7/7 [==============================] - 0s 8ms/step - loss: 0.1155 - accuracy: 0.9754 - val_loss: 0.0780 - val_accuracy: 0.9844\n",
      "INFO:tensorflow:Assets written to: my_checkpoint.ckpt/assets\n",
      "Epoch 20/30\n",
      "7/7 [==============================] - 0s 8ms/step - loss: 0.1092 - accuracy: 0.9765 - val_loss: 0.0780 - val_accuracy: 0.9844\n",
      "INFO:tensorflow:Assets written to: my_checkpoint.ckpt/assets\n",
      "Epoch 21/30\n",
      "7/7 [==============================] - 0s 8ms/step - loss: 0.1144 - accuracy: 0.9763 - val_loss: 0.0780 - val_accuracy: 0.9844\n",
      "INFO:tensorflow:Assets written to: my_checkpoint.ckpt/assets\n",
      "Epoch 22/30\n",
      "7/7 [==============================] - 0s 8ms/step - loss: 0.1073 - accuracy: 0.9760 - val_loss: 0.0778 - val_accuracy: 0.9844\n",
      "INFO:tensorflow:Assets written to: my_checkpoint.ckpt/assets\n",
      "Epoch 23/30\n",
      "7/7 [==============================] - 0s 8ms/step - loss: 0.1140 - accuracy: 0.9744 - val_loss: 0.0778 - val_accuracy: 0.9844\n",
      "INFO:tensorflow:Assets written to: my_checkpoint.ckpt/assets\n",
      "Epoch 24/30\n",
      "7/7 [==============================] - 0s 8ms/step - loss: 0.1090 - accuracy: 0.9768 - val_loss: 0.0777 - val_accuracy: 0.9844\n",
      "INFO:tensorflow:Assets written to: my_checkpoint.ckpt/assets\n",
      "Epoch 25/30\n",
      "7/7 [==============================] - 0s 8ms/step - loss: 0.1175 - accuracy: 0.9741 - val_loss: 0.0774 - val_accuracy: 0.9844\n",
      "INFO:tensorflow:Assets written to: my_checkpoint.ckpt/assets\n",
      "Epoch 26/30\n",
      "7/7 [==============================] - 0s 8ms/step - loss: 0.1062 - accuracy: 0.9770 - val_loss: 0.0768 - val_accuracy: 0.9844\n",
      "INFO:tensorflow:Assets written to: my_checkpoint.ckpt/assets\n",
      "Epoch 27/30\n",
      "7/7 [==============================] - 0s 8ms/step - loss: 0.1022 - accuracy: 0.9786 - val_loss: 0.0767 - val_accuracy: 0.9844\n",
      "INFO:tensorflow:Assets written to: my_checkpoint.ckpt/assets\n",
      "Epoch 28/30\n",
      "7/7 [==============================] - 0s 8ms/step - loss: 0.0994 - accuracy: 0.9766 - val_loss: 0.0768 - val_accuracy: 0.9844\n",
      "Epoch 29/30\n",
      "7/7 [==============================] - 0s 11ms/step - loss: 0.1010 - accuracy: 0.9769 - val_loss: 0.0771 - val_accuracy: 0.9844\n",
      "Epoch 30/30\n",
      "7/7 [==============================] - 0s 16ms/step - loss: 0.1049 - accuracy: 0.9759 - val_loss: 0.0771 - val_accuracy: 0.9844\n"
     ]
    }
   ],
   "source": [
    "# 여기에 답안코드를 작성하세요.\n",
    "model = Sequential([Dense(64, input_shape = (34,), activation = 'relu'),\n",
    "                    Dropout(0.2),\n",
    "                    Dense(32, activation = 'relu'),\n",
    "                    Dropout(0.2),\n",
    "                    Dense(16, activation = 'relu'),\n",
    "                    Dropout(0.2),\n",
    "                    Dense(1, activation = 'sigmoid')])\n",
    "\n",
    "model.compile(optimizer = 'adam', loss = 'binary_crossentropy', metrics=['accuracy'])\n",
    "\n",
    "es = EarlyStopping(monitor = 'val_loss', mode='min')\n",
    "mc = ModelCheckpoint(filepath = 'my_checkpoint.ckpt', save_best_only = True)\n",
    "\n",
    "history = model.fit(X_train, y_train, validation_split = 0.2, batch_size = 1024, epochs = 30, callbacks = [mc]).history"
   ]
  },
  {
   "cell_type": "markdown",
   "metadata": {},
   "source": [
    "**<br>\n",
    "<font color=blue>문제14. 딥러닝 모델의 성능을 평가하려고 합니다. Matplotlib 라이브러리 활용해서 학습 손실과 검증 손실을 그래프로 표시하세요.</font>**\n",
    "**<br>\n",
    "<font color=blue>1개의 그래프에 학습 손실과 검증 손실 2가지를 모두 표시하세요.</font>**\n",
    "**<br>\n",
    "<font color=blue>x축에는 'Epochs', y축에는 'Loss'라고 표시하세요. 범례는 'Train Loss'와 'Validation Loss'로 표시하세요.</font>**"
   ]
  },
  {
   "cell_type": "code",
   "execution_count": 104,
   "metadata": {},
   "outputs": [
    {
     "data": {
      "image/png": "[encoded data removed]",
      "text/plain": [
       "<Figure size 432x288 with 1 Axes>"
      ]
     },
     "metadata": {
      "needs_background": "light"
     },
     "output_type": "display_data"
    }
   ],
   "source": [
    "# 여기에 답안코드를 작성하세요.\n",
    "plt.plot(history['loss'])\n",
    "plt.plot(history['val_loss'])\n",
    "\n",
    "plt.xlabel('Epochs')\n",
    "plt.ylabel('Loss')\n",
    "\n",
    "plt.legend(['Train Loss', 'Validation Loss'])\n",
    "\n",
    "plt.show()"
   ]
  },
  {
   "cell_type": "markdown",
   "metadata": {},
   "source": [
    "####\n",
    "### 1번부터 14번까지 모든 문제를 풀었습니다. 수고 많으셨습니다.\n",
    "\n",
    "### 향후 정답과 비교하며 반복해서 연습해보시기 바랍니다.\n",
    "\n",
    "### 이제 Wrap-up을 위해 전체 발표모임으로 모여주세요!"
   ]
  }
 ],
 "metadata": {
  "kernelspec": {
   "display_name": "Python 3",
   "language": "python",
   "name": "python3"
  },
  "language_info": {
   "codemirror_mode": {
    "name": "ipython",
    "version": 3
   },
   "file_extension": ".py",
   "mimetype": "text/x-python",
   "name": "python",
   "nbconvert_exporter": "python",
   "pygments_lexer": "ipython3",
   "version": "3.6.9"
  }
 },
 "nbformat": 4,
 "nbformat_minor": 4
}

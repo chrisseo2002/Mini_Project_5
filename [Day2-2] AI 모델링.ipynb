{
 "cells": [
  {
   "cell_type": "markdown",
   "id": "2fd1695a-8439-4a35-84c8-9970e11b779f",
   "metadata": {},
   "source": [
    "# AIVLE스쿨 4기 DX트랙 5차 미니프로젝트 \n",
    "## [미션#3] 중증질환 예측 모델링"
   ]
  },
  {
   "cell_type": "markdown",
   "id": "38396e52-004b-48b5-95cb-8a29e36130ef",
   "metadata": {},
   "source": [
    "[미션] \n",
    " * Target : 중증질환 (뇌경색, 뇌출혈, 복부손상, 심근경색)\n",
    " * 데이터 분석 결과를 바탕으로 Target에 영향을 주는 Feature 전처리 (함수 정의)\n",
    " * 머신러닝/딥러닝 모델링 후 성능 비교\n",
    " * 최적AI 모델 선정 및 저장\n",
    " * 새로운 출동 이력에 제시된 환자의 증상을 바탕으로 중증 질환 예측 함수 정의"
   ]
  },
  {
   "cell_type": "code",
   "execution_count": 1,
   "id": "5f22b044",
   "metadata": {},
   "outputs": [],
   "source": [
    "import pandas as pd\n",
    "import numpy as np\n",
    "\n",
    "import matplotlib.pyplot as plt\n",
    "\n",
    "\n",
    "plt.rcParams['font.family'] = 'Malgun Gothic'"
   ]
  },
  {
   "cell_type": "code",
   "execution_count": 2,
   "id": "11e97a5c-ea39-41af-9519-62247a9c2f3e",
   "metadata": {},
   "outputs": [],
   "source": [
    "# 응급 출동 데이터 불러오기\n",
    "# 파일명 : 119_emergency_dispatch.csv, encoding='cp949'\n",
    "# 중증 질환이 ['심근경색', '복부손상', '뇌경색', '뇌출혈']인 데이터만 추출\n",
    "# 데이터 랜덤으로 섞기\n",
    "\n",
    "data = pd.read_csv(\"./119_emergency_dispatch.csv\", encoding=\"cp949\" )\n",
    "desease = data[data['중증질환'].isin(['심근경색', '복부손상', '뇌경색', '뇌출혈'])].copy()\n",
    "\n",
    "# 데이터 랜덤으로 섞기\n",
    "\n",
    "desease = desease.sample(frac=1).reset_index(drop=True)\n"
   ]
  },
  {
   "cell_type": "markdown",
   "id": "72128961-d182-45c6-b50a-cd023e5b784f",
   "metadata": {},
   "source": [
    "### 1) 학습용, 평가용 데이터 준비하기"
   ]
  },
  {
   "cell_type": "markdown",
   "id": "156e1144-5b0f-468b-a240-e12db8727f53",
   "metadata": {},
   "source": [
    "* 데이터 전처리 함수 가져오기"
   ]
  },
  {
   "cell_type": "code",
   "execution_count": 3,
   "id": "0a9c57ad-7d6b-4d45-82ce-e062ff9e8184",
   "metadata": {},
   "outputs": [],
   "source": [
    "# 미션2에서 정의한 preprocessing 전처리 함수 정의 가져와서 실행하기\n",
    "\n",
    "def preprocessing(desease):\n",
    "\n",
    "    desease = desease.copy()\n",
    "\n",
    "    desease['발열'] = [ 1 if x >=37 else 0 for x in desease['체온']]\n",
    "    desease['고혈압'] = [ 1 if x >=140 else 0 for x in desease['수축기 혈압']]\n",
    "    desease['저혈압'] = [ 1 if x <=90 else 0 for x in desease['수축기 혈압']]\n",
    "\n",
    "    X = desease[['체온', '수축기 혈압', '이완기 혈압', '호흡 곤란', '간헐성 경련', '설사', '기침', '출혈', '통증', '만지면 아프다', '무감각', '마비', '현기증', '졸도', '말이 어눌해졌다', '시력이 흐려짐', '발열', '고혈압', '저혈압']]\n",
    "\n",
    "    return X"
   ]
  },
  {
   "cell_type": "code",
   "execution_count": 3,
   "id": "db28c24b",
   "metadata": {},
   "outputs": [],
   "source": [
    "def preprocessing2(desease):\n",
    "\n",
    "    desease = desease.copy()\n",
    "\n",
    "    desease['발열'] = [ 1 if x >=37 else 0 for x in desease['체온']]\n",
    "    desease['고혈압'] = [ 1 if x >=140 else 0 for x in desease['수축기 혈압']]\n",
    "    desease['저혈압'] = [ 1 if x <=90 else 0 for x in desease['수축기 혈압']]\n",
    "\n",
    "    X = desease[['호흡 곤란', '간헐성 경련', '설사', '기침', '출혈', '통증', '만지면 아프다', '무감각', '마비', '현기증', '졸도', '말이 어눌해졌다', '시력이 흐려짐']]\n",
    "\n",
    "    return X"
   ]
  },
  {
   "cell_type": "code",
   "execution_count": 4,
   "id": "7d8963fe-aa01-4c66-a663-48c0895036c9",
   "metadata": {},
   "outputs": [],
   "source": [
    "# target 중증질환 값을 Y에 저장\n",
    "# desease 데이터 프레임을 preprocessing 함수를 활용하여 데이터 전처리하여 필요한 feature만 X에 저장\n",
    "\n",
    "Y = desease['중증질환']\n",
    "X = preprocessing2(desease)"
   ]
  },
  {
   "cell_type": "code",
   "execution_count": 5,
   "id": "4c690f54-b206-43d8-ab19-7228d0150a09",
   "metadata": {},
   "outputs": [],
   "source": [
    "# AI 모델링을 위한 학습/검증 데이터 나누기 : train_test_split\n",
    "# 데이터 분할 비율: 학습데이터 7 : 검증데이터 3\n",
    "# random_state = 2023\n",
    "# 변수명 : train_x, test_x, train_y, test_y\n",
    "\n",
    "from sklearn.model_selection import train_test_split\n",
    "\n",
    "train_x, test_x, train_y, test_y = train_test_split(X, Y, test_size=0.3, random_state=2023)"
   ]
  },
  {
   "cell_type": "markdown",
   "id": "6703af05-a75f-407b-9aa1-87f73d49dbd1",
   "metadata": {},
   "source": [
    "### 2) 모델링"
   ]
  },
  {
   "cell_type": "markdown",
   "id": "e0a3a6a9-9a9b-47b5-8457-a918c33ce880",
   "metadata": {},
   "source": [
    " * 활용 모델 : DecisionTreeClassifier, RandomForestClassifier, XGBClassifier, DNN\n",
    " * 성능 평가 : accuracy_score"
   ]
  },
  {
   "cell_type": "code",
   "execution_count": 6,
   "id": "e0ad402f",
   "metadata": {},
   "outputs": [],
   "source": [
    "from sklearn.metrics import *"
   ]
  },
  {
   "cell_type": "code",
   "execution_count": 7,
   "id": "479c8b5b-eaff-4ffe-9064-ab6916442edc",
   "metadata": {},
   "outputs": [
    {
     "data": {
      "text/plain": [
       "0.9164056382145653"
      ]
     },
     "execution_count": 7,
     "metadata": {},
     "output_type": "execute_result"
    }
   ],
   "source": [
    "## Decision Tree\n",
    "## 1) 불러오기\n",
    "from sklearn.tree import DecisionTreeClassifier\n",
    "\n",
    "## 2) 선언하기\n",
    "dt = DecisionTreeClassifier()\n",
    "\n",
    "## 3) 학습하기\n",
    "dt.fit(train_x, train_y)\n",
    "\n",
    "\n",
    "## 4) 예측하기\n",
    "dt_pred = dt.predict(test_x)\n",
    "\n",
    "## 5) 평가하기\n",
    "accuracy_score(test_y, dt_pred)\n"
   ]
  },
  {
   "cell_type": "code",
   "execution_count": 8,
   "id": "7d1975bb-868d-4edb-b002-c77516a36bc5",
   "metadata": {},
   "outputs": [
    {
     "data": {
      "text/plain": [
       "0.9166014095536413"
      ]
     },
     "execution_count": 8,
     "metadata": {},
     "output_type": "execute_result"
    }
   ],
   "source": [
    "## RandomForest\n",
    "## 1) 불러오기\n",
    "from sklearn.ensemble import RandomForestClassifier\n",
    "\n",
    "\n",
    "## 2) 선언하기\n",
    "rf = RandomForestClassifier()\n",
    "\n",
    "\n",
    "## 3) 학습하기\n",
    "rf.fit(train_x, train_y)\n",
    "\n",
    "\n",
    "## 4) 예측하기\n",
    "rf_pred = rf.predict(test_x)\n",
    "\n",
    "## 5) 평가하기\n",
    "accuracy_score(test_y, rf_pred)"
   ]
  },
  {
   "cell_type": "code",
   "execution_count": 9,
   "id": "ce030325-6ca6-4a7f-bb56-e01372cf6ca9",
   "metadata": {},
   "outputs": [
    {
     "data": {
      "text/plain": [
       "0.9164056382145653"
      ]
     },
     "execution_count": 9,
     "metadata": {},
     "output_type": "execute_result"
    }
   ],
   "source": [
    "## XGBoost\n",
    "## 1) 불러오기\n",
    "from xgboost import XGBClassifier\n",
    "\n",
    "\n",
    "## 2) 선언하기\n",
    "xgb = XGBClassifier()\n",
    "\n",
    "\n",
    "## target값 라벨링하기 {'뇌경색':0, '뇌출혈':1, '복부손상':2, '심근경색':3}\n",
    "train_y_l = train_y.map({'뇌경색':0, '뇌출혈':1, '복부손상':2, '심근경색':3})\n",
    "test_y_l = test_y.map({'뇌경색':0, '뇌출혈':1, '복부손상':2, '심근경색':3})\n",
    "\n",
    "## 3) 학습하기\n",
    "xgb.fit(train_x, train_y_l)\n",
    "\n",
    "\n",
    "## 4) 예측하기\n",
    "xgb_pred = xgb.predict(test_x)\n",
    "\n",
    "## 5) 평가하기\n",
    "accuracy_score(test_y_l, xgb_pred)"
   ]
  },
  {
   "cell_type": "code",
   "execution_count": 17,
   "id": "d5d9f020-f736-462a-9060-bb980e4a4190",
   "metadata": {},
   "outputs": [
    {
     "name": "stdout",
     "output_type": "stream",
     "text": [
      "Epoch 1/1000\n",
      "298/298 [==============================] - 1s 2ms/step - loss: 1.0488 - val_loss: 0.6366\n",
      "Epoch 2/1000\n",
      "298/298 [==============================] - 0s 1ms/step - loss: 0.4395 - val_loss: 0.3285\n",
      "Epoch 3/1000\n",
      "298/298 [==============================] - 1s 2ms/step - loss: 0.2951 - val_loss: 0.2767\n",
      "Epoch 4/1000\n",
      "298/298 [==============================] - 0s 2ms/step - loss: 0.2607 - val_loss: 0.2583\n",
      "Epoch 5/1000\n",
      "298/298 [==============================] - 0s 1ms/step - loss: 0.2450 - val_loss: 0.2475\n",
      "Epoch 6/1000\n",
      "298/298 [==============================] - 0s 1ms/step - loss: 0.2365 - val_loss: 0.2405\n",
      "Epoch 7/1000\n",
      "298/298 [==============================] - 0s 1ms/step - loss: 0.2308 - val_loss: 0.2362\n",
      "Epoch 8/1000\n",
      "298/298 [==============================] - 0s 2ms/step - loss: 0.2262 - val_loss: 0.2341\n",
      "Epoch 9/1000\n",
      "298/298 [==============================] - 0s 2ms/step - loss: 0.2251 - val_loss: 0.2288\n",
      "Epoch 10/1000\n",
      "298/298 [==============================] - 0s 1ms/step - loss: 0.2216 - val_loss: 0.2258\n",
      "Epoch 11/1000\n",
      "298/298 [==============================] - 0s 2ms/step - loss: 0.2192 - val_loss: 0.2245\n",
      "Epoch 12/1000\n",
      "298/298 [==============================] - 0s 2ms/step - loss: 0.2182 - val_loss: 0.2210\n",
      "Epoch 13/1000\n",
      "298/298 [==============================] - 0s 1ms/step - loss: 0.2166 - val_loss: 0.2205\n",
      "Epoch 14/1000\n",
      "298/298 [==============================] - 0s 1ms/step - loss: 0.2143 - val_loss: 0.2206\n",
      "Epoch 15/1000\n",
      "298/298 [==============================] - 0s 2ms/step - loss: 0.2136 - val_loss: 0.2167\n",
      "Epoch 16/1000\n",
      "298/298 [==============================] - 0s 2ms/step - loss: 0.2119 - val_loss: 0.2186\n",
      "Epoch 17/1000\n",
      "298/298 [==============================] - 0s 1ms/step - loss: 0.2122 - val_loss: 0.2152\n",
      "Epoch 18/1000\n",
      "298/298 [==============================] - 0s 1ms/step - loss: 0.2110 - val_loss: 0.2139\n",
      "Epoch 19/1000\n",
      "298/298 [==============================] - 0s 1ms/step - loss: 0.2095 - val_loss: 0.2135\n",
      "Epoch 20/1000\n",
      "298/298 [==============================] - 0s 1ms/step - loss: 0.2089 - val_loss: 0.2143\n",
      "Epoch 21/1000\n",
      "298/298 [==============================] - 0s 1ms/step - loss: 0.2087 - val_loss: 0.2121\n",
      "Epoch 22/1000\n",
      "298/298 [==============================] - 0s 2ms/step - loss: 0.2084 - val_loss: 0.2120\n",
      "Epoch 23/1000\n",
      "298/298 [==============================] - 0s 1ms/step - loss: 0.2074 - val_loss: 0.2117\n",
      "Epoch 24/1000\n",
      "298/298 [==============================] - 1s 2ms/step - loss: 0.2070 - val_loss: 0.2129\n",
      "Epoch 25/1000\n",
      "298/298 [==============================] - 0s 1ms/step - loss: 0.2070 - val_loss: 0.2118\n",
      "Epoch 26/1000\n",
      "298/298 [==============================] - 0s 1ms/step - loss: 0.2058 - val_loss: 0.2105\n",
      "Epoch 27/1000\n",
      "298/298 [==============================] - 0s 2ms/step - loss: 0.2057 - val_loss: 0.2109\n",
      "Epoch 28/1000\n",
      "298/298 [==============================] - 1s 2ms/step - loss: 0.2052 - val_loss: 0.2096\n",
      "Epoch 29/1000\n",
      "298/298 [==============================] - 0s 1ms/step - loss: 0.2048 - val_loss: 0.2089\n",
      "Epoch 30/1000\n",
      "298/298 [==============================] - 0s 2ms/step - loss: 0.2041 - val_loss: 0.2103\n",
      "Epoch 31/1000\n",
      "298/298 [==============================] - 0s 1ms/step - loss: 0.2036 - val_loss: 0.2082\n",
      "Epoch 32/1000\n",
      "298/298 [==============================] - 0s 2ms/step - loss: 0.2032 - val_loss: 0.2087\n",
      "Epoch 33/1000\n",
      "298/298 [==============================] - 0s 1ms/step - loss: 0.2030 - val_loss: 0.2123\n",
      "Epoch 34/1000\n",
      "298/298 [==============================] - 0s 1ms/step - loss: 0.2030 - val_loss: 0.2122\n",
      "Epoch 35/1000\n",
      "298/298 [==============================] - 0s 1ms/step - loss: 0.2028 - val_loss: 0.2088\n",
      "Epoch 36/1000\n",
      "298/298 [==============================] - 0s 2ms/step - loss: 0.2020 - val_loss: 0.2091\n",
      "Epoch 37/1000\n",
      "298/298 [==============================] - 0s 1ms/step - loss: 0.2025 - val_loss: 0.2092\n",
      "Epoch 38/1000\n",
      "298/298 [==============================] - 0s 2ms/step - loss: 0.2027 - val_loss: 0.2080\n",
      "Epoch 39/1000\n",
      "298/298 [==============================] - 0s 2ms/step - loss: 0.2018 - val_loss: 0.2075\n",
      "Epoch 40/1000\n",
      "298/298 [==============================] - 1s 2ms/step - loss: 0.2023 - val_loss: 0.2062\n",
      "Epoch 41/1000\n",
      "298/298 [==============================] - 0s 2ms/step - loss: 0.2017 - val_loss: 0.2092\n",
      "Epoch 42/1000\n",
      "298/298 [==============================] - 0s 2ms/step - loss: 0.2009 - val_loss: 0.2077\n",
      "Epoch 43/1000\n",
      "298/298 [==============================] - 0s 1ms/step - loss: 0.2018 - val_loss: 0.2092\n",
      "Epoch 44/1000\n",
      "298/298 [==============================] - 0s 1ms/step - loss: 0.2012 - val_loss: 0.2064\n",
      "Epoch 45/1000\n",
      "298/298 [==============================] - 0s 1ms/step - loss: 0.2015 - val_loss: 0.2067\n",
      "Epoch 46/1000\n",
      "298/298 [==============================] - 0s 1ms/step - loss: 0.2001 - val_loss: 0.2093\n",
      "Epoch 47/1000\n",
      "298/298 [==============================] - 0s 1ms/step - loss: 0.2010 - val_loss: 0.2083\n",
      "Epoch 48/1000\n",
      "298/298 [==============================] - 0s 1ms/step - loss: 0.2003 - val_loss: 0.2085\n",
      "Epoch 49/1000\n",
      "298/298 [==============================] - 0s 2ms/step - loss: 0.2006 - val_loss: 0.2088\n",
      "Epoch 50/1000\n",
      "298/298 [==============================] - 0s 2ms/step - loss: 0.2003 - val_loss: 0.2084\n",
      "160/160 [==============================] - 0s 1ms/step\n"
     ]
    },
    {
     "data": {
      "text/plain": [
       "0.9242364917776038"
      ]
     },
     "execution_count": 17,
     "metadata": {},
     "output_type": "execute_result"
    }
   ],
   "source": [
    "## DNN\n",
    "## 1) 불러오기\n",
    "from keras.models import Sequential\n",
    "from keras.layers import Dense, Dropout\n",
    "from keras.backend import clear_session\n",
    "from sklearn.metrics import accuracy_score\n",
    "from keras.callbacks import EarlyStopping\n",
    "\n",
    "\n",
    "# 메모리 정리\n",
    "clear_session()\n",
    "\n",
    "## 2) 선언하기\n",
    "model = Sequential([Dense(32, input_shape = (train_x.shape[1],), activation = 'relu'),\n",
    "                    Dense(8, activation = 'relu'),\n",
    "                    Dense(4, activation = 'softmax')])\n",
    "model.compile(optimizer='adam', loss='sparse_categorical_crossentropy')\n",
    "\n",
    "## target값 라벨링하기 {'뇌경색':0, '뇌출혈':1, '복부손상':2, '심근경색':3}\n",
    "train_y_l = train_y.map({'뇌경색':0, '뇌출혈':1, '복부손상':2, '심근경색':3})\n",
    "test_y_l = test_y.map({'뇌경색':0, '뇌출혈':1, '복부손상':2, '심근경색':3})\n",
    "\n",
    "## 3) 학습하기\n",
    "es = EarlyStopping(monitor='val_loss' , mode='min', patience=10)\n",
    "history = model.fit(train_x, train_y_l, validation_split=0.2, epochs=1000, batch_size=32, callbacks=[es]).history\n",
    "\n",
    "\n",
    "## 4) 예측하기\n",
    "dnn_pred = model.predict(test_x)\n",
    "\n",
    "## 5) 평가하기, np.argmax(pred_DNN, axis=1)\n",
    "accuracy_score(test_y_l, np.argmax(dnn_pred, axis=1))"
   ]
  },
  {
   "cell_type": "markdown",
   "id": "f2582b0a-ffd1-4723-b016-22bc9ee2be58",
   "metadata": {},
   "source": [
    "### 3) 최적 모델 선정 및 저장"
   ]
  },
  {
   "cell_type": "code",
   "execution_count": null,
   "id": "bf912617-03c2-49c3-a7a1-930652755830",
   "metadata": {},
   "outputs": [],
   "source": [
    "## 질문) 최적 모델로 선정된 것은 무엇인가?\n",
    "#XGBoost\n"
   ]
  },
  {
   "cell_type": "code",
   "execution_count": 18,
   "id": "2c86a1f5-41d5-4488-af59-38037270d5cb",
   "metadata": {},
   "outputs": [
    {
     "data": {
      "text/plain": [
       "['./xgb_model2.pkl']"
      ]
     },
     "execution_count": 18,
     "metadata": {},
     "output_type": "execute_result"
    }
   ],
   "source": [
    "## 모델 저장하기\n",
    "\n",
    "#머신러닝 모델인 경우\n",
    "import joblib\n",
    "joblib.dump(xgb, './xgb_model2.pkl')\n",
    "\n",
    "#딥러닝 모델인 경우\n"
   ]
  },
  {
   "cell_type": "markdown",
   "id": "cee7bbf1-aae4-4279-ae4d-892bf6eebd4c",
   "metadata": {},
   "source": [
    "### 4) 새로운 출동 이력 데이터에 대한 중증질환 예측하기"
   ]
  },
  {
   "cell_type": "code",
   "execution_count": 19,
   "id": "f4d4fcda-662a-44f8-94bb-8667f8bfebd5",
   "metadata": {},
   "outputs": [],
   "source": [
    "# 새로운 출동 이력 데이터 : 딕셔너리 형태\n",
    "new_dispatch = {\n",
    "    \"ID\" : [500001],\n",
    "    \"출동일시\" :['2023-04-18'],\n",
    "    \"이름\" : ['최**'],\n",
    "    \"성별\" : [\"여성\"],\n",
    "    \"나이\" : [80],\n",
    "    \"체온\" : [37],\n",
    "    \"수축기 혈압\" : [145],\n",
    "    \"이완기 혈압\" : [100],\n",
    "    \"호흡 곤란\":[0],\n",
    "    \"간헐성 경련\":[1],\n",
    "    \"설사\":[0],\n",
    "    \"기침\":[0],\n",
    "    \"출혈\":[0],\n",
    "    \"통증\":[1],\n",
    "    \"만지면 아프다\":[0],\n",
    "    \"무감각\":[0],\n",
    "    \"마비\":[1],\n",
    "    \"현기증\":[0],\n",
    "    \"졸도\":[1],\n",
    "    \"말이 어눌해졌다\":[1],\n",
    "    \"시력이 흐려짐\":[1],\n",
    "\n",
    "}\n",
    "\n"
   ]
  },
  {
   "cell_type": "code",
   "execution_count": 20,
   "id": "9729913b-84c1-462d-8b49-758998dc2149",
   "metadata": {},
   "outputs": [
    {
     "data": {
      "text/html": [
       "<div>\n",
       "<style scoped>\n",
       "    .dataframe tbody tr th:only-of-type {\n",
       "        vertical-align: middle;\n",
       "    }\n",
       "\n",
       "    .dataframe tbody tr th {\n",
       "        vertical-align: top;\n",
       "    }\n",
       "\n",
       "    .dataframe thead th {\n",
       "        text-align: right;\n",
       "    }\n",
       "</style>\n",
       "<table border=\"1\" class=\"dataframe\">\n",
       "  <thead>\n",
       "    <tr style=\"text-align: right;\">\n",
       "      <th></th>\n",
       "      <th>호흡 곤란</th>\n",
       "      <th>간헐성 경련</th>\n",
       "      <th>설사</th>\n",
       "      <th>기침</th>\n",
       "      <th>출혈</th>\n",
       "      <th>통증</th>\n",
       "      <th>만지면 아프다</th>\n",
       "      <th>무감각</th>\n",
       "      <th>마비</th>\n",
       "      <th>현기증</th>\n",
       "      <th>졸도</th>\n",
       "      <th>말이 어눌해졌다</th>\n",
       "      <th>시력이 흐려짐</th>\n",
       "    </tr>\n",
       "  </thead>\n",
       "  <tbody>\n",
       "    <tr>\n",
       "      <th>0</th>\n",
       "      <td>0</td>\n",
       "      <td>1</td>\n",
       "      <td>0</td>\n",
       "      <td>0</td>\n",
       "      <td>0</td>\n",
       "      <td>1</td>\n",
       "      <td>0</td>\n",
       "      <td>0</td>\n",
       "      <td>1</td>\n",
       "      <td>0</td>\n",
       "      <td>1</td>\n",
       "      <td>1</td>\n",
       "      <td>1</td>\n",
       "    </tr>\n",
       "  </tbody>\n",
       "</table>\n",
       "</div>"
      ],
      "text/plain": [
       "   호흡 곤란  간헐성 경련  설사  기침  출혈  통증  만지면 아프다  무감각  마비  현기증  졸도  말이 어눌해졌다  시력이 흐려짐\n",
       "0      0       1   0   0   0   1        0    0   1    0   1         1        1"
      ]
     },
     "execution_count": 20,
     "metadata": {},
     "output_type": "execute_result"
    }
   ],
   "source": [
    "# new_dispatch 딕셔너리를 데이터 프레임으로 변환\n",
    "# 변수명 : new_data\n",
    "new_data = pd.DataFrame(new_dispatch)\n",
    "\n",
    "\n",
    "# new_data를 preprocessing 함수를 이용하여 데이터 전처리하기\n",
    "# 변수명 : new_x\n",
    "new_x = preprocessing2(new_data)\n",
    "new_x"
   ]
  },
  {
   "cell_type": "code",
   "execution_count": 21,
   "id": "189ed6cd-9586-48f1-8169-b4c967e4e97c",
   "metadata": {},
   "outputs": [],
   "source": [
    "# 모델 불러오기\n",
    "\n",
    "# 머신러닝 모델인 경우\n",
    "\n",
    "model_m = joblib.load('./xgb_model2.pkl')\n",
    "\n",
    "# 딥러닝 모델인 경우\n",
    "\n",
    "#model_d = "
   ]
  },
  {
   "cell_type": "code",
   "execution_count": 22,
   "id": "eaf51602-4431-4d09-8207-355e15a97ef7",
   "metadata": {},
   "outputs": [
    {
     "name": "stdout",
     "output_type": "stream",
     "text": [
      "예측값 :  [0]\n",
      "예측 중증질환명 :  뇌경색\n"
     ]
    }
   ],
   "source": [
    "# 중증질환 예측하기\n",
    "\n",
    "# 머신러닝 모델인 경우\n",
    "pred_new_m = model_m.predict(new_x)\n",
    "print(\"예측값 : \", pred_new_m)\n",
    "\n",
    "# 딥러닝 모델인 경우\n",
    "# pred_new_d = \n",
    "# print(\"예측값 : \", pred_new_d)\n",
    "\n",
    "\n",
    "# 중증질환 명칭으로 표시하기\n",
    "\n",
    "sym_list = ['뇌경색', '뇌출혈', '복부손상', '심근경색']\n",
    "\n",
    "# 머신러닝 모델인 경우\n",
    "print(\"예측 중증질환명 : \", sym_list[pred_new_m[0]])\n",
    "# 딥러닝 모델인 경우\n",
    "#print(\"예측 중증질환명 : \",)\n",
    "\n"
   ]
  },
  {
   "cell_type": "markdown",
   "id": "be84e2da",
   "metadata": {},
   "source": [
    "### 5) 새로운 환자(출동 이력)에 대한 중증질환 예측 함수 정의하기"
   ]
  },
  {
   "cell_type": "markdown",
   "id": "0b6b2797",
   "metadata": {},
   "source": [
    " * 1. 함수 선언하기\n",
    " * 2. 데이터 준비하기\n",
    " * 3. 중증 질환 예측하기\n",
    " * 4. 중증 질환명으로 반환하기"
   ]
  },
  {
   "cell_type": "code",
   "execution_count": 33,
   "id": "907ff8c6-9e90-4512-a9ad-1d516b12c5c8",
   "metadata": {},
   "outputs": [],
   "source": [
    "# 중증질환 예측 함수 정의하기\n",
    "# 함수명 : predict_disease\n",
    "# 매개변수 : new_dispatch (출동 이력 데이터, 딕셔너리 형태)\n",
    "# output : 중증 질환 명칭\n",
    "\n",
    "\n",
    "#########################################\n",
    "# 1. 함수 선언하기                       #\n",
    "#########################################\n",
    "\n",
    "def predict_disease(new_dispatch):\n",
    "    \n",
    "    #########################################\n",
    "    # 2. 데이터 준비하기                     #\n",
    "    #########################################\n",
    "    \n",
    "    # 중증 질환 명칭 및 라벨링 {'뇌경색':0, '뇌출혈':1, '복부손상':2, '심근경색':3}\n",
    "    # 중증 질환 리스트 정의 : 라벨링 순서대로\n",
    "    sym_list = ['뇌경색', '뇌출혈', '복부손상', '심근경색']\n",
    "    \n",
    "    # 딕셔너리 형태의 출동 이력 데이터를 데이터 프레임으로 변환\n",
    "    # 변수명 : new_data\n",
    "    new_data = pd.DataFrame(new_dispatch)\n",
    "\n",
    "    # new_data를 preprocessing 함수를 이용하여 데이터 전처리된 new_x 받아오기\n",
    "    # preporcessing 함수 정의 부분이 먼저 실행되어 있어야 함\n",
    "    new_x = preprocessing(new_data)\n",
    "\n",
    "    #########################################\n",
    "    # 3. 중증 질환 예측하기                  #\n",
    "    #########################################\n",
    "      \n",
    "    # 저장된 AI모델 불러오기 \n",
    "    # 모델 변수명 : model_m\n",
    "    model_m = joblib.load('xgb_model.pkl')\n",
    "\n",
    "    # new_x를 기반으로 중증질환 예측하기\n",
    "    pred = model_m.predict(new_x)\n",
    "\n",
    "    #########################################\n",
    "    # 4. 중증 질환명으로 반환하기             #\n",
    "    #########################################\n",
    "\n",
    "    # 예측된 결과를 중증질환 명칭으로 반환하기\n",
    "    return sym_list[pred[0]]\n",
    "    "
   ]
  },
  {
   "cell_type": "code",
   "execution_count": 34,
   "id": "63b77824-01b8-45f0-be6e-4bfd8c01bd52",
   "metadata": {},
   "outputs": [
    {
     "data": {
      "text/plain": [
       "'뇌경색'"
      ]
     },
     "execution_count": 34,
     "metadata": {},
     "output_type": "execute_result"
    }
   ],
   "source": [
    "## 확인하기\n",
    "# predict_disease 함수를 이용하여, 출동 이력 데이터로 중증질환 예측하기\n",
    "\n",
    "new_dispatch = {\n",
    "    \"ID\" : [500001],\n",
    "    \"출동일시\" :['2023-04-18'],\n",
    "    \"이름\" : ['최**'],\n",
    "    \"성별\" : [\"여성\"],\n",
    "    \"나이\" : [80],\n",
    "    \"체온\" : [37],\n",
    "    \"수축기 혈압\" : [145],\n",
    "    \"이완기 혈압\" : [100],\n",
    "    \"호흡 곤란\":[0],\n",
    "    \"간헐성 경련\":[1],\n",
    "    \"설사\":[0],\n",
    "    \"기침\":[0],\n",
    "    \"출혈\":[0],\n",
    "    \"통증\":[1],\n",
    "    \"만지면 아프다\":[0],\n",
    "    \"무감각\":[0],\n",
    "    \"마비\":[1],\n",
    "    \"현기증\":[0],\n",
    "    \"졸도\":[1],\n",
    "    \"말이 어눌해졌다\":[1],\n",
    "    \"시력이 흐려짐\":[1],\n",
    "}\n",
    "\n",
    "\n",
    "predict_disease(new_dispatch)"
   ]
  },
  {
   "cell_type": "code",
   "execution_count": 38,
   "id": "fb56130d",
   "metadata": {},
   "outputs": [
    {
     "name": "stdout",
     "output_type": "stream",
     "text": [
      "['체온', '수축기 혈압', '이완기 혈압', '호흡 곤란', '간헐성 경련', '설사', '기침', '출혈', '통증', '만지면 아프다', '무감각', '마비', '현기증', '졸도', '말이 어눌해졌다', '시력이 흐려짐', '발열', '고혈압', '저혈압']\n",
      "[0.00293653 0.00307032 0.00257915 0.19576123 0.01606045 0.05906774\n",
      " 0.02184983 0.08802346 0.020082   0.13652816 0.04700823 0.07193901\n",
      " 0.06027573 0.08826078 0.14015393 0.04640343 0.         0.\n",
      " 0.        ]\n"
     ]
    },
    {
     "data": {
      "image/png": "[encoded data removed]",
      "text/plain": [
       "<Figure size 1500x500 with 1 Axes>"
      ]
     },
     "metadata": {},
     "output_type": "display_data"
    }
   ],
   "source": [
    "print(list(X))\n",
    "print(xgb.feature_importances_)\n",
    "import seaborn as sns\n",
    "\n",
    "plt.figure(figsize=(15,5))\n",
    "sns.barplot(x = list(X), y=xgb.feature_importances_)\n",
    "plt.xticks(rotation = 45)\n",
    "plt.show()"
   ]
  },
  {
   "cell_type": "markdown",
   "id": "ed73a5aa-b2ff-42a3-ac6e-4e9636ba6069",
   "metadata": {},
   "source": [
    "## 미션#3 Clear\n",
    "## 수고하셨습니다!!"
   ]
  }
 ],
 "metadata": {
  "kernelspec": {
   "display_name": "Python 3 (ipykernel)",
   "language": "python",
   "name": "python3"
  },
  "language_info": {
   "codemirror_mode": {
    "name": "ipython",
    "version": 3
   },
   "file_extension": ".py",
   "mimetype": "text/x-python",
   "name": "python",
   "nbconvert_exporter": "python",
   "pygments_lexer": "ipython3",
   "version": "3.11.3"
  },
  "vscode": {
   "interpreter": {
    "hash": "f08154012ddadd8e950e6e9e035c7a7b32c136e7647e9b7c77e02eb723a8bedb"
   }
  }
 },
 "nbformat": 4,
 "nbformat_minor": 5
}
